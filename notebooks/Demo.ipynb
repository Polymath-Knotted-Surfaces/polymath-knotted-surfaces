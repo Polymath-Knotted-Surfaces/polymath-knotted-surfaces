{
 "cells": [
  {
   "cell_type": "code",
   "execution_count": 3,
   "id": "3c1e9be9",
   "metadata": {},
   "outputs": [],
   "source": [
    "import sys\n",
    "sys.path.append('../scripts')\n",
    "from dyck_caps import *\n",
    "from braidgroup import *\n",
    "from cytoolz.curried import *\n",
    "from knottedsurface import *\n",
    "import collections.abc as c"
   ]
  },
  {
   "cell_type": "code",
   "execution_count": 4,
   "id": "89aeec0d-48f3-4f4d-baa7-4da68ff70340",
   "metadata": {},
   "outputs": [],
   "source": [
    "mybraids = genBraids(8, 3)\n",
    "mybraids = list(set(mybraids))"
   ]
  },
  {
   "cell_type": "code",
   "execution_count": 6,
   "id": "b56fada6",
   "metadata": {},
   "outputs": [],
   "source": [
    "#random test\n",
    "caps = list(gen_caps(4))\n",
    "c1,c2 = list(map(pairs_to_cap, caps[:2]))\n",
    "c3 = caps[2]\n",
    "b = mybraids[10]\n",
    "is_triplane(c1,c2,add_cap(word_to_braid(b, 8),c3))\n",
    "L = attach(c1,c2)"
   ]
  },
  {
   "cell_type": "code",
   "execution_count": 7,
   "id": "503647b3",
   "metadata": {},
   "outputs": [
    {
     "data": {
      "text/plain": [
       "<Link: 0 comp; 0 cross>"
      ]
     },
     "execution_count": 7,
     "metadata": {},
     "output_type": "execute_result"
    }
   ],
   "source": [
    "L"
   ]
  },
  {
   "cell_type": "code",
   "execution_count": null,
   "id": "fed9eb9c-2391-4046-a138-5f1a005c484e",
   "metadata": {},
   "outputs": [],
   "source": [
    "Pn1 = pairs_to_cap([(1,2), (3,4)])\n",
    "Pn2 = pairs_to_cap([(1,4), (2,3)])\n",
    "Pn_braid3 = sigma(1,4,-1)\n",
    "Pn_cap3 = [(1,2), (3,4)]\n",
    "Pn3 = add_cap(Pn_braid3, Pn_cap3)"
   ]
  },
  {
   "cell_type": "code",
   "execution_count": null,
   "id": "2323f316",
   "metadata": {},
   "outputs": [],
   "source": [
    "L = attach(Pn3, Pn1)"
   ]
  },
  {
   "cell_type": "code",
   "execution_count": null,
   "id": "c817ea3e",
   "metadata": {},
   "outputs": [],
   "source": [
    "b"
   ]
  },
  {
   "cell_type": "code",
   "execution_count": null,
   "id": "00dc2c1b",
   "metadata": {},
   "outputs": [],
   "source": [
    "mybraids = list(set(list(mybraids))) # remove duplicates"
   ]
  },
  {
   "cell_type": "code",
   "execution_count": null,
   "id": "34661f37",
   "metadata": {},
   "outputs": [],
   "source": [
    "w = mybraids[0]"
   ]
  }
 ],
 "metadata": {
  "kernelspec": {
   "display_name": "Python (Conda:py39)",
   "language": "python",
   "name": "py39"
  },
  "language_info": {
   "codemirror_mode": {
    "name": "ipython",
    "version": 3
   },
   "file_extension": ".py",
   "mimetype": "text/x-python",
   "name": "python",
   "nbconvert_exporter": "python",
   "pygments_lexer": "ipython3",
   "version": "3.9.6"
  },
  "toc": {
   "base_numbering": 1,
   "nav_menu": {},
   "number_sections": false,
   "sideBar": false,
   "skip_h1_title": false,
   "title_cell": "Table of Contents",
   "title_sidebar": "Contents",
   "toc_cell": false,
   "toc_position": {},
   "toc_section_display": false,
   "toc_window_display": false
  }
 },
 "nbformat": 4,
 "nbformat_minor": 5
}

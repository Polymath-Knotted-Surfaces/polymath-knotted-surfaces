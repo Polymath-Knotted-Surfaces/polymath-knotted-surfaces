{
 "cells": [
  {
   "cell_type": "code",
   "execution_count": 1,
   "id": "3c1e9be9",
   "metadata": {},
   "outputs": [],
   "source": [
    "import sys\n",
    "sys.path.append('../scripts')\n",
    "from dyck_caps import *\n",
    "from braidgroup import *\n",
    "from cytoolz.curried import *"
   ]
  },
  {
   "cell_type": "code",
   "execution_count": 2,
   "id": "020dc1c8-4f98-4e44-b451-0e930c373891",
   "metadata": {},
   "outputs": [],
   "source": [
    "mybraids = genBraids(6, 4)"
   ]
  },
  {
   "cell_type": "code",
   "execution_count": 3,
   "id": "89aeec0d-48f3-4f4d-baa7-4da68ff70340",
   "metadata": {},
   "outputs": [],
   "source": [
    "braids, mybraids = peekn(10, mybraids)\n",
    "print(braids)"
   ]
  },
  {
   "cell_type": "code",
   "execution_count": null,
   "id": "fed9eb9c-2391-4046-a138-5f1a005c484e",
   "metadata": {},
   "outputs": [],
   "source": []
  }
 ],
 "metadata": {
  "kernelspec": {
   "display_name": "Python 3 (ipykernel)",
   "language": "python",
   "name": "python3"
  },
  "language_info": {
   "codemirror_mode": {
    "name": "ipython",
    "version": 3
   },
   "file_extension": ".py",
   "mimetype": "text/x-python",
   "name": "python",
   "nbconvert_exporter": "python",
   "pygments_lexer": "ipython3",
   "version": "3.9.6"
  },
  "toc": {
   "base_numbering": 1,
   "nav_menu": {},
   "number_sections": false,
   "sideBar": false,
   "skip_h1_title": false,
   "title_cell": "Table of Contents",
   "title_sidebar": "Contents",
   "toc_cell": false,
   "toc_position": {},
   "toc_section_display": false,
   "toc_window_display": false
  }
 },
 "nbformat": 4,
 "nbformat_minor": 5
}

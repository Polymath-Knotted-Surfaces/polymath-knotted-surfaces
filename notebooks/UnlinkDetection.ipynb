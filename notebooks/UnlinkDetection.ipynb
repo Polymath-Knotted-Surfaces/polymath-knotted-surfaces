{
 "cells": [
  {
   "cell_type": "code",
   "execution_count": 39,
   "id": "37d45e60",
   "metadata": {},
   "outputs": [],
   "source": [
    "from snappy import *\n",
    "import sys\n",
    "sys.path.append('../scripts')\n",
    "from knottedsurface import *\n",
    "from cytoolz.curried import *\n",
    "\n",
    "\n",
    "def unlink(n: int) -> Link:\n",
    "    return Link(braid_closure=list(interleave((range(1,n),range(-1,-n,-1)))))"
   ]
  },
  {
   "cell_type": "code",
   "execution_count": 41,
   "id": "38809270",
   "metadata": {},
   "outputs": [
    {
     "data": {
      "text/plain": [
       "Generators:\n",
       "   a,b,c\n",
       "Relators:\n",
       "   "
      ]
     },
     "execution_count": 41,
     "metadata": {},
     "output_type": "execute_result"
    }
   ],
   "source": [
    "L = unlink(3);\n",
    "G = L.exterior().fundamental_group()\n",
    "G"
   ]
  },
  {
   "cell_type": "code",
   "execution_count": 46,
   "id": "b3ff9fef",
   "metadata": {},
   "outputs": [],
   "source": [
    "T = pairs_to_cap([(1, 2)])\n",
    "L = attach(T,T)"
   ]
  },
  {
   "cell_type": "code",
   "execution_count": null,
   "id": "f528eb9a",
   "metadata": {},
   "outputs": [],
   "source": [
    "checkCovers(17, L)"
   ]
  },
  {
   "cell_type": "code",
   "execution_count": null,
   "id": "574a952f",
   "metadata": {},
   "outputs": [],
   "source": []
  }
 ],
 "metadata": {
  "kernelspec": {
   "display_name": "Python (Conda:py39)",
   "language": "python",
   "name": "py39"
  },
  "language_info": {
   "codemirror_mode": {
    "name": "ipython",
    "version": 3
   },
   "file_extension": ".py",
   "mimetype": "text/x-python",
   "name": "python",
   "nbconvert_exporter": "python",
   "pygments_lexer": "ipython3",
   "version": "3.9.6"
  },
  "toc": {
   "base_numbering": 1,
   "nav_menu": {},
   "number_sections": false,
   "sideBar": false,
   "skip_h1_title": false,
   "title_cell": "Table of Contents",
   "title_sidebar": "Contents",
   "toc_cell": false,
   "toc_position": {},
   "toc_section_display": false,
   "toc_window_display": false
  }
 },
 "nbformat": 4,
 "nbformat_minor": 5
}

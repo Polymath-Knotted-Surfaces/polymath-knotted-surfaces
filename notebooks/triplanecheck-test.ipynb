{
 "cells": [
  {
   "cell_type": "code",
   "execution_count": 1,
   "metadata": {},
   "outputs": [],
   "source": [
    "import sys\n",
    "sys.path.append('../scripts')\n",
    "\n",
    "from knottedsurface import *"
   ]
  },
  {
   "cell_type": "code",
   "execution_count": 2,
   "metadata": {},
   "outputs": [
    {
     "name": "stdout",
     "output_type": "stream",
     "text": [
      "True\n"
     ]
    }
   ],
   "source": [
    "# creating triplane diagram for the unknotted sphere\n",
    "U1 = U2 = U3 = pairs_to_cap([(1,2)])\n",
    "\n",
    "print(is_triplane(U1, U2, U3))"
   ]
  },
  {
   "cell_type": "code",
   "execution_count": 3,
   "metadata": {},
   "outputs": [
    {
     "name": "stdout",
     "output_type": "stream",
     "text": [
      "True\n"
     ]
    }
   ],
   "source": [
    "# creating triplane diagram for the unknotted torus\n",
    "T1 = pairs_to_cap([(1, 2), (3, 6), (4, 5)])\n",
    "T2 = pairs_to_cap([(1, 4), (2, 3), (5, 6)])\n",
    "T3 = pairs_to_cap([(1, 6), (2, 5), (3, 4)])\n",
    "\n",
    "print(is_triplane(T1, T2, T3))"
   ]
  },
  {
   "cell_type": "code",
   "execution_count": 5,
   "metadata": {},
   "outputs": [
    {
     "name": "stdout",
     "output_type": "stream",
     "text": [
      "True\n"
     ]
    }
   ],
   "source": [
    "# creating triplane diagram for the positive projective plane\n",
    "Pp1 = pairs_to_cap([(1,2), (3,4)])\n",
    "Pp2 = pairs_to_cap([(1,4), (2,3)])\n",
    "Pp_braid3 = sigma(1,4,1)\n",
    "Pp_cap3 = [(1,2), (3,4)]\n",
    "Pp3 = add_cap(Pp_braid3, Pp_cap3)\n",
    "\n",
    "# print(Pp2.crossings)\n",
    "\n",
    "# print(Pp3)\n",
    "# print(Pp3.n)\n",
    "# print([x.info() for x in Pp3.crossings])\n",
    "# print(Pp3.adjacent)\n",
    "\n",
    "print(is_triplane(Pp1, Pp2, Pp3))"
   ]
  },
  {
   "cell_type": "code",
   "execution_count": 8,
   "metadata": {},
   "outputs": [
    {
     "name": "stdout",
     "output_type": "stream",
     "text": [
      "True\n"
     ]
    }
   ],
   "source": [
    "# creating triplane diagram for the negative projective plane\n",
    "Pn1 = pairs_to_cap([(1,2), (3,4)])\n",
    "Pn2 = pairs_to_cap([(1,4), (2,3)])\n",
    "Pn_braid3 = sigma(1,4,-1)\n",
    "Pn_cap3 = [(1,2), (3,4)]\n",
    "Pn3 = add_cap(Pn_braid3, Pn_cap3)\n",
    "\n",
    "print(is_triplane(Pn1, Pn2, Pn3))"
   ]
  },
  {
   "cell_type": "code",
   "execution_count": 0,
   "metadata": {},
   "outputs": [],
   "source": []
  }
 ],
 "metadata": {
  "kernelspec": {
   "display_name": "Python 3 (ipykernel)",
   "language": "python",
   "name": "python3"
  },
  "language_info": {
   "codemirror_mode": {
    "name": "ipython",
    "version": 3
   },
   "file_extension": ".py",
   "mimetype": "text/x-python",
   "name": "python",
   "nbconvert_exporter": "python",
   "pygments_lexer": "ipython3",
   "version": "3.9.6"
  },
  "toc": {
   "base_numbering": 1,
   "nav_menu": {},
   "number_sections": false,
   "sideBar": false,
   "skip_h1_title": false,
   "title_cell": "Table of Contents",
   "title_sidebar": "Contents",
   "toc_cell": false,
   "toc_position": {},
   "toc_section_display": false,
   "toc_window_display": false
  }
 },
 "nbformat": 4,
 "nbformat_minor": 4
}

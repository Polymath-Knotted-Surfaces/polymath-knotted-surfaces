{
 "cells": [
  {
   "cell_type": "code",
   "execution_count": 1,
   "metadata": {
    "collapsed": false,
    "jupyter": {
     "outputs_hidden": false
    }
   },
   "outputs": [],
   "source": [
    "import sys\n",
    "sys.path.append('../scripts')\n",
    "\n",
    "from knottedsurface import *"
   ]
  },
  {
   "cell_type": "code",
   "execution_count": 2,
   "metadata": {
    "collapsed": false,
    "jupyter": {
     "outputs_hidden": false
    }
   },
   "outputs": [
    {
     "name": "stdout",
     "output_type": "stream",
     "text": [
      "True\n"
     ]
    }
   ],
   "source": [
    "# creating triplane diagram for the unknotted sphere\n",
    "U1 = U2 = U3 = pairs_to_cap([(1,2)])\n",
    "\n",
    "print(is_triplane(U1, U2, U3))"
   ]
  },
  {
   "cell_type": "code",
   "execution_count": 3,
   "metadata": {
    "collapsed": false,
    "jupyter": {
     "outputs_hidden": false
    }
   },
   "outputs": [
    {
     "name": "stdout",
     "output_type": "stream",
     "text": [
      "True\n"
     ]
    }
   ],
   "source": [
    "# creating triplane diagram for the unknotted torus\n",
    "T1 = pairs_to_cap([(1, 2), (3, 6), (4, 5)])\n",
    "T2 = pairs_to_cap([(1, 4), (2, 3), (5, 6)])\n",
    "T3 = pairs_to_cap([(1, 6), (2, 5), (3, 4)])\n",
    "\n",
    "print(is_triplane(T1, T2, T3))"
   ]
  },
  {
   "cell_type": "code",
   "execution_count": 4,
   "metadata": {
    "collapsed": false,
    "jupyter": {
     "outputs_hidden": false
    }
   },
   "outputs": [
    {
     "name": "stdout",
     "output_type": "stream",
     "text": [
      "True\n"
     ]
    }
   ],
   "source": [
    "# creating triplane diagram for the positive projective plane\n",
    "Pp1 = pairs_to_cap([(1,2), (3,4)])\n",
    "Pp2 = pairs_to_cap([(1,4), (2,3)])\n",
    "Pp_braid3 = sigma(1,4,1)\n",
    "Pp_cap3 = [(1,2), (3,4)]\n",
    "Pp3 = add_cap(Pp_braid3, Pp_cap3)\n",
    "\n",
    "# print(Pp2.crossings)\n",
    "\n",
    "# print(Pp3)\n",
    "# print(Pp3.n)\n",
    "# print([x.info() for x in Pp3.crossings])\n",
    "# print(Pp3.adjacent)\n",
    "\n",
    "print(is_triplane(Pp1, Pp2, Pp3))"
   ]
  },
  {
   "cell_type": "code",
   "execution_count": 5,
   "metadata": {
    "collapsed": false,
    "jupyter": {
     "outputs_hidden": false
    }
   },
   "outputs": [
    {
     "name": "stdout",
     "output_type": "stream",
     "text": [
      "True\n"
     ]
    }
   ],
   "source": [
    "# creating triplane diagram for the negative projective plane\n",
    "Pn1 = pairs_to_cap([(1,2), (3,4)])\n",
    "Pn2 = pairs_to_cap([(1,4), (2,3)])\n",
    "Pn_braid3 = sigma(1,4,-1)\n",
    "Pn_cap3 = [(1,2), (3,4)]\n",
    "Pn3 = add_cap(Pn_braid3, Pn_cap3)\n",
    "\n",
    "print(is_triplane(Pn1, Pn2, Pn3))"
   ]
  },
  {
   "cell_type": "code",
   "execution_count": 8,
   "metadata": {
    "collapsed": false,
    "jupyter": {
     "outputs_hidden": false
    }
   },
   "outputs": [
    {
     "name": "stdout",
     "output_type": "stream",
     "text": [
      "True\n"
     ]
    }
   ],
   "source": [
    "# creating triplane diagram for the spun trefoil\n",
    "ST1 = pairs_to_cap([(1,2), (3,8), (4,7), (5,6)])\n",
    "ST2 = pairs_to_cap([(1,2), (3,6), (4,5), (7,8)])\n",
    "ST_braid3 = (sigma(1,8,1) * sigma(1,8,1) * sigma(1,8,1) * sigma(3,8,-1)\n",
    "            * sigma(2,8,-1) * sigma(1,8,-1) * sigma(1,8,-1) * sigma(1,8,-1))\n",
    "ST_cap3 = [(1,2), (3,8), (4,5), (6,7)]\n",
    "ST3 = add_cap(ST_braid3, ST_cap3)\n",
    "\n",
    "print(is_triplane(ST1, ST2, ST3))"
   ]
  },
  {
   "cell_type": "code",
   "execution_count": 9,
   "metadata": {
    "collapsed": false,
    "jupyter": {
     "outputs_hidden": false
    }
   },
   "outputs": [
    {
     "name": "stdout",
     "output_type": "stream",
     "text": [
      "False\n"
     ]
    }
   ],
   "source": [
    "# creating three tangles that do not form a triplane diagram\n",
    "NTp1 = pairs_to_cap([(1,2), (3,4)])\n",
    "NTp2 = pairs_to_cap([(1,4), (2,3)])\n",
    "NTp_braid3 = sigma(1,4,1) * sigma(1,4,1)\n",
    "NTp_cap3 = [(1,2), (3,4)]\n",
    "NTp3 = add_cap(NTp_braid3, NTp_cap3)\n",
    "\n",
    "print(is_triplane(NTp1, NTp2, NTp3))"
   ]
  },
  {
   "cell_type": "code",
   "execution_count": null,
   "metadata": {
    "collapsed": false,
    "jupyter": {
     "outputs_hidden": false
    }
   },
   "outputs": [],
   "source": []
  }
 ],
 "metadata": {
  "kernelspec": {
   "display_name": "Python 3 (ipykernel)",
   "language": "python",
   "name": "python3"
  },
  "language_info": {
   "codemirror_mode": {
    "name": "ipython",
    "version": 3
   },
   "file_extension": ".py",
   "mimetype": "text/x-python",
   "name": "python",
   "nbconvert_exporter": "python",
   "pygments_lexer": "ipython3",
   "version": "3.9.6"
  }
 },
 "nbformat": 4,
 "nbformat_minor": 4
}

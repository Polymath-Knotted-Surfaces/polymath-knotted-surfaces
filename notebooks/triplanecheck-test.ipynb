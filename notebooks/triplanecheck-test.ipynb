{
 "cells": [
  {
   "cell_type": "code",
   "execution_count": 1,
   "metadata": {
    "collapsed": false,
    "jupyter": {
     "outputs_hidden": false
    }
   },
   "outputs": [],
   "source": [
    "import sys\n",
    "sys.path.append('../scripts')\n",
    "\n",
    "from knottedsurface import *\n",
    "from spherogram.links.tangles import Tangle, join_strands\n",
    "from spherogram.links import Strand, Link\n",
    "from spherogram.links.ordered_set import OrderedSet "
   ]
  },
  {
   "cell_type": "code",
   "execution_count": 8,
   "metadata": {},
   "outputs": [],
   "source": [
    "def make_tail(self, a):\n",
    "        \"\"\"\n",
    "        Orients the strand joining input \"a\" to input\" a+2\" to start at \"a\" and end at\n",
    "        \"a+2\".\n",
    "        \"\"\"\n",
    "        if not self.directions:\n",
    "            self.directions = set()\n",
    "        else:\n",
    "            self.directions = self.directions\n",
    "        b = (a, (a + 2) % 4)\n",
    "        if (b[1], b[0]) in self.directions:\n",
    "            raise ValueError(\"Can only orient a strand once.\")\n",
    "        self.directions.add(b)\n",
    "Tangle.directions = set()\n",
    "Strand.directions = set()\n",
    "Tangle.make_tail = make_tail\n",
    "Strand.make_tail = make_tail\n",
    "\n",
    "def _orient_crossings(self, start_orientations=None):\n",
    "        if self.all_crossings_oriented():\n",
    "            return\n",
    "        if start_orientations is None:\n",
    "            start_orientations = list()\n",
    "        remaining = OrderedSet(\n",
    "            [(c, i) for c in self.crossings for i in range(4) if c.sign == 0])\n",
    "        while len(remaining):\n",
    "            if len(start_orientations) > 0:\n",
    "                c, i = start = start_orientations.pop()\n",
    "            else:\n",
    "                c, i = start = remaining.pop()\n",
    "\n",
    "            finished = False\n",
    "            while not finished:\n",
    "                d, j = c.adjacent[i]\n",
    "                d.make_tail(j)\n",
    "                remaining.discard((c, i)), remaining.discard((d, j))\n",
    "                c, i = d, (j + 2) % 4\n",
    "                finished = (c, i) == start\n",
    "\n",
    "        for c in self.crossings:\n",
    "            c.orient()\n",
    "\n",
    "Link._orient_crossings = _orient_crossings\n",
    "\n"
   ]
  },
  {
   "cell_type": "code",
   "execution_count": 7,
   "metadata": {},
   "outputs": [],
   "source": [
    "# def join_strands(x, y):\n",
    "#     (a,i), (b,j) = x, y\n",
    "#     a.adjacent[i] = (b,j)\n",
    "#     b.adjacent[j] = (a,i)\n",
    "\n",
    "# def attach(T1, T2):\n",
    "#     if T1.n != T2.n:\n",
    "#         raise ValueError(\"Both tangles must have the same number of strands\")\n",
    "#     A, B = T1.copy(), T2.copy()\n",
    "#     a, b = A.adjacent, B.adjacent\n",
    "#     n = A.n\n",
    "#     for i in range(n):\n",
    "#         join_strands(a[i], b[i])\n",
    "#     return spherogram.Link(A.crossings + B.crossings, check_planarity=False)"
   ]
  },
  {
   "cell_type": "code",
   "execution_count": 3,
   "metadata": {
    "collapsed": false,
    "jupyter": {
     "outputs_hidden": false
    }
   },
   "outputs": [
    {
     "name": "stdout",
     "output_type": "stream",
     "text": [
      "True\n"
     ]
    }
   ],
   "source": [
    "# creating triplane diagram for the unknotted sphere\n",
    "U1 = U2 = U3 = pairs_to_cap([(1,2)])\n",
    "\n",
    "print(is_triplane(U1, U2, U3))"
   ]
  },
  {
   "cell_type": "code",
   "execution_count": 4,
   "metadata": {
    "collapsed": false,
    "jupyter": {
     "outputs_hidden": false
    }
   },
   "outputs": [
    {
     "name": "stdout",
     "output_type": "stream",
     "text": [
      "True\n"
     ]
    }
   ],
   "source": [
    "# creating triplane diagram for the unknotted torus\n",
    "T1 = pairs_to_cap([(1, 2), (3, 6), (4, 5)])\n",
    "T2 = pairs_to_cap([(1, 4), (2, 3), (5, 6)])\n",
    "T3 = pairs_to_cap([(1, 6), (2, 5), (3, 4)])\n",
    "\n",
    "print(is_triplane(T1, T2, T3))"
   ]
  },
  {
   "cell_type": "code",
   "execution_count": 9,
   "metadata": {
    "collapsed": false,
    "jupyter": {
     "outputs_hidden": false
    }
   },
   "outputs": [
    {
     "ename": "IndexError",
     "evalue": "list index out of range",
     "output_type": "error",
     "traceback": [
      "\u001b[1;31m---------------------------------------------------------------------------\u001b[0m",
      "\u001b[1;31mIndexError\u001b[0m                                Traceback (most recent call last)",
      "\u001b[1;32mC:\\msys64\\tmp/ipykernel_15344/3238514728.py\u001b[0m in \u001b[0;36m<module>\u001b[1;34m\u001b[0m\n\u001b[0;32m     13\u001b[0m \u001b[1;31m# print(Pp3.adjacent)\u001b[0m\u001b[1;33m\u001b[0m\u001b[1;33m\u001b[0m\u001b[1;33m\u001b[0m\u001b[0m\n\u001b[0;32m     14\u001b[0m \u001b[1;33m\u001b[0m\u001b[0m\n\u001b[1;32m---> 15\u001b[1;33m \u001b[0mprint\u001b[0m\u001b[1;33m(\u001b[0m\u001b[0mis_triplane\u001b[0m\u001b[1;33m(\u001b[0m\u001b[0mPp1\u001b[0m\u001b[1;33m,\u001b[0m \u001b[0mPp2\u001b[0m\u001b[1;33m,\u001b[0m \u001b[0mPp3\u001b[0m\u001b[1;33m)\u001b[0m\u001b[1;33m)\u001b[0m\u001b[1;33m\u001b[0m\u001b[1;33m\u001b[0m\u001b[0m\n\u001b[0m",
      "\u001b[1;32mG:\\My Drive\\Dropsync\\School\\Nebraska\\polymath-knotted-surfaces\\notebooks\\../scripts\\knottedsurface.py\u001b[0m in \u001b[0;36mis_triplane\u001b[1;34m(T1, T2, T3)\u001b[0m\n\u001b[0;32m     71\u001b[0m \u001b[1;32mdef\u001b[0m \u001b[0mis_triplane\u001b[0m\u001b[1;33m(\u001b[0m\u001b[0mT1\u001b[0m\u001b[1;33m,\u001b[0m \u001b[0mT2\u001b[0m\u001b[1;33m,\u001b[0m \u001b[0mT3\u001b[0m\u001b[1;33m)\u001b[0m\u001b[1;33m:\u001b[0m\u001b[1;33m\u001b[0m\u001b[1;33m\u001b[0m\u001b[0m\n\u001b[0;32m     72\u001b[0m     \u001b[0mL12\u001b[0m \u001b[1;33m=\u001b[0m \u001b[0mattach\u001b[0m\u001b[1;33m(\u001b[0m\u001b[0mT1\u001b[0m\u001b[1;33m,\u001b[0m \u001b[0mT2\u001b[0m\u001b[1;33m)\u001b[0m\u001b[1;33m\u001b[0m\u001b[1;33m\u001b[0m\u001b[0m\n\u001b[1;32m---> 73\u001b[1;33m     \u001b[0mL23\u001b[0m \u001b[1;33m=\u001b[0m \u001b[0mattach\u001b[0m\u001b[1;33m(\u001b[0m\u001b[0mT2\u001b[0m\u001b[1;33m,\u001b[0m \u001b[0mT3\u001b[0m\u001b[1;33m)\u001b[0m\u001b[1;33m\u001b[0m\u001b[1;33m\u001b[0m\u001b[0m\n\u001b[0m\u001b[0;32m     74\u001b[0m     \u001b[0mL31\u001b[0m \u001b[1;33m=\u001b[0m \u001b[0mattach\u001b[0m\u001b[1;33m(\u001b[0m\u001b[0mT3\u001b[0m\u001b[1;33m,\u001b[0m \u001b[0mT1\u001b[0m\u001b[1;33m)\u001b[0m\u001b[1;33m\u001b[0m\u001b[1;33m\u001b[0m\u001b[0m\n\u001b[0;32m     75\u001b[0m     \u001b[1;32mreturn\u001b[0m \u001b[0mis_unlink\u001b[0m\u001b[1;33m(\u001b[0m\u001b[0mL12\u001b[0m\u001b[1;33m)\u001b[0m \u001b[1;32mand\u001b[0m \u001b[0mis_unlink\u001b[0m\u001b[1;33m(\u001b[0m\u001b[0mL23\u001b[0m\u001b[1;33m)\u001b[0m \u001b[1;32mand\u001b[0m \u001b[0mis_unlink\u001b[0m\u001b[1;33m(\u001b[0m\u001b[0mL31\u001b[0m\u001b[1;33m)\u001b[0m\u001b[1;33m\u001b[0m\u001b[1;33m\u001b[0m\u001b[0m\n",
      "\u001b[1;32mG:\\My Drive\\Dropsync\\School\\Nebraska\\polymath-knotted-surfaces\\notebooks\\../scripts\\knottedsurface.py\u001b[0m in \u001b[0;36mattach\u001b[1;34m(T1, T2)\u001b[0m\n\u001b[0;32m     62\u001b[0m     \u001b[1;32mfor\u001b[0m \u001b[0mi\u001b[0m \u001b[1;32min\u001b[0m \u001b[0mrange\u001b[0m\u001b[1;33m(\u001b[0m\u001b[0mn\u001b[0m\u001b[1;33m)\u001b[0m\u001b[1;33m:\u001b[0m\u001b[1;33m\u001b[0m\u001b[1;33m\u001b[0m\u001b[0m\n\u001b[0;32m     63\u001b[0m         \u001b[0mjoin_strands\u001b[0m\u001b[1;33m(\u001b[0m\u001b[0ma\u001b[0m\u001b[1;33m[\u001b[0m\u001b[0mi\u001b[0m\u001b[1;33m]\u001b[0m\u001b[1;33m,\u001b[0m \u001b[0mb\u001b[0m\u001b[1;33m[\u001b[0m\u001b[0mi\u001b[0m\u001b[1;33m]\u001b[0m\u001b[1;33m)\u001b[0m\u001b[1;33m\u001b[0m\u001b[1;33m\u001b[0m\u001b[0m\n\u001b[1;32m---> 64\u001b[1;33m     \u001b[1;32mreturn\u001b[0m \u001b[0mspherogram\u001b[0m\u001b[1;33m.\u001b[0m\u001b[0mLink\u001b[0m\u001b[1;33m(\u001b[0m\u001b[0mA\u001b[0m\u001b[1;33m.\u001b[0m\u001b[0mcrossings\u001b[0m \u001b[1;33m+\u001b[0m \u001b[0mB\u001b[0m\u001b[1;33m.\u001b[0m\u001b[0mcrossings\u001b[0m\u001b[1;33m,\u001b[0m \u001b[0mcheck_planarity\u001b[0m\u001b[1;33m=\u001b[0m\u001b[1;32mFalse\u001b[0m\u001b[1;33m)\u001b[0m\u001b[1;33m\u001b[0m\u001b[1;33m\u001b[0m\u001b[0m\n\u001b[0m\u001b[0;32m     65\u001b[0m \u001b[1;33m\u001b[0m\u001b[0m\n\u001b[0;32m     66\u001b[0m \u001b[1;31m# returns True if and only if the link is an unlink\u001b[0m\u001b[1;33m\u001b[0m\u001b[1;33m\u001b[0m\u001b[1;33m\u001b[0m\u001b[0m\n",
      "\u001b[1;32mC:\\Anaconda3\\envs\\py39\\lib\\site-packages\\spherogram\\links\\invariants.py\u001b[0m in \u001b[0;36m__init__\u001b[1;34m(self, crossings, braid_closure, check_planarity, build)\u001b[0m\n\u001b[0;32m    103\u001b[0m                 \u001b[0mcrossings\u001b[0m \u001b[1;33m=\u001b[0m \u001b[0mcrossings\u001b[0m\u001b[1;33m.\u001b[0m\u001b[0mpd_code\u001b[0m\u001b[1;33m(\u001b[0m\u001b[1;33m)\u001b[0m\u001b[1;33m\u001b[0m\u001b[1;33m\u001b[0m\u001b[0m\n\u001b[0;32m    104\u001b[0m \u001b[1;33m\u001b[0m\u001b[0m\n\u001b[1;32m--> 105\u001b[1;33m         \u001b[0mlinks_base\u001b[0m\u001b[1;33m.\u001b[0m\u001b[0mLink\u001b[0m\u001b[1;33m.\u001b[0m\u001b[0m__init__\u001b[0m\u001b[1;33m(\u001b[0m\u001b[0mself\u001b[0m\u001b[1;33m,\u001b[0m \u001b[0mcrossings\u001b[0m\u001b[1;33m,\u001b[0m \u001b[0mbraid_closure\u001b[0m\u001b[1;33m,\u001b[0m \u001b[0mcheck_planarity\u001b[0m\u001b[1;33m,\u001b[0m \u001b[0mbuild\u001b[0m\u001b[1;33m)\u001b[0m\u001b[1;33m\u001b[0m\u001b[1;33m\u001b[0m\u001b[0m\n\u001b[0m\u001b[0;32m    106\u001b[0m \u001b[1;33m\u001b[0m\u001b[0m\n\u001b[0;32m    107\u001b[0m     \u001b[1;33m@\u001b[0m\u001b[0msage_method\u001b[0m\u001b[1;33m\u001b[0m\u001b[1;33m\u001b[0m\u001b[0m\n",
      "\u001b[1;32mC:\\Anaconda3\\envs\\py39\\lib\\site-packages\\spherogram\\links\\links_base.py\u001b[0m in \u001b[0;36m__init__\u001b[1;34m(self, crossings, braid_closure, check_planarity, build)\u001b[0m\n\u001b[0;32m    416\u001b[0m \u001b[1;33m\u001b[0m\u001b[0m\n\u001b[0;32m    417\u001b[0m         \u001b[1;32mif\u001b[0m \u001b[0mbuild\u001b[0m\u001b[1;33m:\u001b[0m\u001b[1;33m\u001b[0m\u001b[1;33m\u001b[0m\u001b[0m\n\u001b[1;32m--> 418\u001b[1;33m             \u001b[0mself\u001b[0m\u001b[1;33m.\u001b[0m\u001b[0m_build\u001b[0m\u001b[1;33m(\u001b[0m\u001b[0mstart_orientations\u001b[0m\u001b[1;33m,\u001b[0m \u001b[0mcomponent_starts\u001b[0m\u001b[1;33m)\u001b[0m\u001b[1;33m\u001b[0m\u001b[1;33m\u001b[0m\u001b[0m\n\u001b[0m\u001b[0;32m    419\u001b[0m             \u001b[1;32mif\u001b[0m \u001b[0mcheck_planarity\u001b[0m \u001b[1;32mand\u001b[0m \u001b[1;32mnot\u001b[0m \u001b[0mself\u001b[0m\u001b[1;33m.\u001b[0m\u001b[0mis_planar\u001b[0m\u001b[1;33m(\u001b[0m\u001b[1;33m)\u001b[0m\u001b[1;33m:\u001b[0m\u001b[1;33m\u001b[0m\u001b[1;33m\u001b[0m\u001b[0m\n\u001b[0;32m    420\u001b[0m                 \u001b[1;32mraise\u001b[0m \u001b[0mValueError\u001b[0m\u001b[1;33m(\u001b[0m\u001b[1;34m\"Link isn't planar\"\u001b[0m\u001b[1;33m)\u001b[0m\u001b[1;33m\u001b[0m\u001b[1;33m\u001b[0m\u001b[0m\n",
      "\u001b[1;32mC:\\Anaconda3\\envs\\py39\\lib\\site-packages\\spherogram\\links\\links_base.py\u001b[0m in \u001b[0;36m_build\u001b[1;34m(self, start_orientations, component_starts)\u001b[0m\n\u001b[0;32m    592\u001b[0m \u001b[1;33m\u001b[0m\u001b[0m\n\u001b[0;32m    593\u001b[0m     \u001b[1;32mdef\u001b[0m \u001b[0m_build\u001b[0m\u001b[1;33m(\u001b[0m\u001b[0mself\u001b[0m\u001b[1;33m,\u001b[0m \u001b[0mstart_orientations\u001b[0m\u001b[1;33m=\u001b[0m\u001b[1;32mNone\u001b[0m\u001b[1;33m,\u001b[0m \u001b[0mcomponent_starts\u001b[0m \u001b[1;33m=\u001b[0m \u001b[1;32mNone\u001b[0m\u001b[1;33m)\u001b[0m\u001b[1;33m:\u001b[0m\u001b[1;33m\u001b[0m\u001b[1;33m\u001b[0m\u001b[0m\n\u001b[1;32m--> 594\u001b[1;33m         \u001b[0mself\u001b[0m\u001b[1;33m.\u001b[0m\u001b[0m_orient_crossings\u001b[0m\u001b[1;33m(\u001b[0m\u001b[0mstart_orientations\u001b[0m \u001b[1;33m=\u001b[0m \u001b[0mstart_orientations\u001b[0m\u001b[1;33m)\u001b[0m\u001b[1;33m\u001b[0m\u001b[1;33m\u001b[0m\u001b[0m\n\u001b[0m\u001b[0;32m    595\u001b[0m         \u001b[0mself\u001b[0m\u001b[1;33m.\u001b[0m\u001b[0m_build_components\u001b[0m\u001b[1;33m(\u001b[0m\u001b[0mcomponent_starts\u001b[0m \u001b[1;33m=\u001b[0m \u001b[0mcomponent_starts\u001b[0m\u001b[1;33m)\u001b[0m\u001b[1;33m\u001b[0m\u001b[1;33m\u001b[0m\u001b[0m\n\u001b[0;32m    596\u001b[0m \u001b[1;33m\u001b[0m\u001b[0m\n",
      "\u001b[1;32mC:\\msys64\\tmp/ipykernel_15344/306528866.py\u001b[0m in \u001b[0;36m_orient_crossings\u001b[1;34m(self, start_orientations)\u001b[0m\n\u001b[0;32m     32\u001b[0m             \u001b[0mfinished\u001b[0m \u001b[1;33m=\u001b[0m \u001b[1;32mFalse\u001b[0m\u001b[1;33m\u001b[0m\u001b[1;33m\u001b[0m\u001b[0m\n\u001b[0;32m     33\u001b[0m             \u001b[1;32mwhile\u001b[0m \u001b[1;32mnot\u001b[0m \u001b[0mfinished\u001b[0m\u001b[1;33m:\u001b[0m\u001b[1;33m\u001b[0m\u001b[1;33m\u001b[0m\u001b[0m\n\u001b[1;32m---> 34\u001b[1;33m                 \u001b[0md\u001b[0m\u001b[1;33m,\u001b[0m \u001b[0mj\u001b[0m \u001b[1;33m=\u001b[0m \u001b[0mc\u001b[0m\u001b[1;33m.\u001b[0m\u001b[0madjacent\u001b[0m\u001b[1;33m[\u001b[0m\u001b[0mi\u001b[0m\u001b[1;33m]\u001b[0m\u001b[1;33m\u001b[0m\u001b[1;33m\u001b[0m\u001b[0m\n\u001b[0m\u001b[0;32m     35\u001b[0m                 \u001b[0md\u001b[0m\u001b[1;33m.\u001b[0m\u001b[0mmake_tail\u001b[0m\u001b[1;33m(\u001b[0m\u001b[0mj\u001b[0m\u001b[1;33m)\u001b[0m\u001b[1;33m\u001b[0m\u001b[1;33m\u001b[0m\u001b[0m\n\u001b[0;32m     36\u001b[0m                 \u001b[0mremaining\u001b[0m\u001b[1;33m.\u001b[0m\u001b[0mdiscard\u001b[0m\u001b[1;33m(\u001b[0m\u001b[1;33m(\u001b[0m\u001b[0mc\u001b[0m\u001b[1;33m,\u001b[0m \u001b[0mi\u001b[0m\u001b[1;33m)\u001b[0m\u001b[1;33m)\u001b[0m\u001b[1;33m,\u001b[0m \u001b[0mremaining\u001b[0m\u001b[1;33m.\u001b[0m\u001b[0mdiscard\u001b[0m\u001b[1;33m(\u001b[0m\u001b[1;33m(\u001b[0m\u001b[0md\u001b[0m\u001b[1;33m,\u001b[0m \u001b[0mj\u001b[0m\u001b[1;33m)\u001b[0m\u001b[1;33m)\u001b[0m\u001b[1;33m\u001b[0m\u001b[1;33m\u001b[0m\u001b[0m\n",
      "\u001b[1;31mIndexError\u001b[0m: list index out of range"
     ]
    }
   ],
   "source": [
    "# creating triplane diagram for the positive projective plane\n",
    "Pp1 = pairs_to_cap([(1,2), (3,4)])\n",
    "Pp2 = pairs_to_cap([(1,4), (2,3)])\n",
    "Pp_braid3 = sigma(1,4,2)\n",
    "Pp_cap3 = pairs_to_cap([(1,2), (3,4)])\n",
    "Pp3 = add_cap(Pp_braid3, Pp_cap3)\n",
    "\n",
    "# print(Pp2.crossings)\n",
    "\n",
    "# print(Pp3)\n",
    "# print(Pp3.n)\n",
    "# print([x.info() for x in Pp3.crossings])\n",
    "# print(Pp3.adjacent)\n",
    "\n",
    "print(is_triplane(Pp1, Pp2, Pp3))"
   ]
  },
  {
   "cell_type": "code",
   "execution_count": null,
   "metadata": {
    "collapsed": false,
    "jupyter": {
     "outputs_hidden": false
    }
   },
   "outputs": [],
   "source": [
    "# creating triplane diagram for the negative projective plane\n",
    "Pn1 = pairs_to_cap([(1,2), (3,4)])\n",
    "Pn2 = pairs_to_cap([(1,4), (2,3)])\n",
    "Pn_braid3 = sigma(1,4,-1)\n",
    "Pn_cap3 = pairs_to_cap([(1,2), (3,4)])\n",
    "Pn3 = add_cap(Pn_braid3, Pn_cap3)\n",
    "\n",
    "print(is_triplane(Pn1, Pn2, Pn3))"
   ]
  },
  {
   "cell_type": "code",
   "execution_count": null,
   "metadata": {},
   "outputs": [],
   "source": [
    "dir(Pp3)"
   ]
  },
  {
   "cell_type": "code",
   "execution_count": null,
   "metadata": {},
   "outputs": [],
   "source": [
    "Pp3.adjacent"
   ]
  },
  {
   "cell_type": "code",
   "execution_count": null,
   "metadata": {},
   "outputs": [],
   "source": [
    "Pp_braid3"
   ]
  },
  {
   "cell_type": "code",
   "execution_count": null,
   "metadata": {},
   "outputs": [],
   "source": []
  }
 ],
 "metadata": {
  "kernelspec": {
   "display_name": "Python (Conda:py39)",
   "language": "python",
   "name": "py39"
  },
  "language_info": {
   "codemirror_mode": {
    "name": "ipython",
    "version": 3
   },
   "file_extension": ".py",
   "mimetype": "text/x-python",
   "name": "python",
   "nbconvert_exporter": "python",
   "pygments_lexer": "ipython3",
   "version": "3.9.6"
  }
 },
 "nbformat": 4,
 "nbformat_minor": 4
}

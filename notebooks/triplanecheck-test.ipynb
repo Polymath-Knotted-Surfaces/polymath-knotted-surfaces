{
 "cells": [
  {
   "cell_type": "code",
   "execution_count": 1,
   "metadata": {
    "collapsed": false
   },
   "outputs": [
   ],
   "source": [
    "import sys\n",
    "sys.path.append('../scripts')\n",
    "\n",
    "from knottedsurface import *"
   ]
  },
  {
   "cell_type": "code",
   "execution_count": 2,
   "metadata": {
    "collapsed": false
   },
   "outputs": [
    {
     "name": "stdout",
     "output_type": "stream",
     "text": [
      "True\n"
     ]
    }
   ],
   "source": [
    "# creating triplane diagram for the unknotted sphere\n",
    "U1 = U2 = U3 = pairs_to_cap([(1,2)])\n",
    "\n",
    "print(is_triplane(U1, U2, U3))"
   ]
  },
  {
   "cell_type": "code",
   "execution_count": 3,
   "metadata": {
    "collapsed": false
   },
   "outputs": [
    {
     "name": "stdout",
     "output_type": "stream",
     "text": [
      "True\n"
     ]
    }
   ],
   "source": [
    "# creating triplane diagram for the unknotted torus\n",
    "T1 = pairs_to_cap([(1, 2), (3, 6), (4, 5)])\n",
    "T2 = pairs_to_cap([(1, 4), (2, 3), (5, 6)])\n",
    "T3 = pairs_to_cap([(1, 6), (2, 5), (3, 4)])\n",
    "\n",
    "print(is_triplane(T1, T2, T3))"
   ]
  },
  {
   "cell_type": "code",
   "execution_count": 5,
   "metadata": {
    "collapsed": false
   },
   "outputs": [
    {
     "name": "stdout",
     "output_type": "stream",
     "text": [
      "True\n"
     ]
    }
   ],
   "source": [
    "# creating triplane diagram for the positive projective plane\n",
    "Pp1 = pairs_to_cap([(1,2), (3,4)])\n",
    "Pp2 = pairs_to_cap([(1,4), (2,3)])\n",
    "Pp_braid3 = sigma(1,4,1)\n",
    "Pp_cap3 = [(1,2), (3,4)]\n",
    "Pp3 = add_cap(Pp_braid3, Pp_cap3)\n",
    "\n",
    "# print(Pp2.crossings)\n",
    "\n",
    "# print(Pp3)\n",
    "# print(Pp3.n)\n",
    "# print([x.info() for x in Pp3.crossings])\n",
    "# print(Pp3.adjacent)\n",
    "\n",
    "print(is_triplane(Pp1, Pp2, Pp3))"
   ]
  },
  {
   "cell_type": "code",
   "execution_count": 8,
   "metadata": {
    "collapsed": false
   },
   "outputs": [
    {
     "name": "stdout",
     "output_type": "stream",
     "text": [
      "True\n"
     ]
    }
   ],
   "source": [
    "# creating triplane diagram for the negative projective plane\n",
    "Pn1 = pairs_to_cap([(1,2), (3,4)])\n",
    "Pn2 = pairs_to_cap([(1,4), (2,3)])\n",
    "Pn_braid3 = sigma(1,4,-1)\n",
    "Pn_cap3 = [(1,2), (3,4)]\n",
    "Pn3 = add_cap(Pn_braid3, Pn_cap3)\n",
    "\n",
    "print(is_triplane(Pn1, Pn2, Pn3))"
   ]
  },
  {
   "cell_type": "code",
   "execution_count": 0,
   "metadata": {
    "collapsed": false
   },
   "outputs": [
   ],
   "source": [
   ]
  }
 ],
 "metadata": {
  "kernelspec": {
   "display_name": "Python 3 (system-wide)",
   "language": "python",
   "metadata": {
    "cocalc": {
     "description": "Python 3 programming language",
     "priority": 100,
     "url": "https://www.python.org/"
    }
   },
   "name": "python3",
   "resource_dir": "/ext/jupyter/kernels/python3"
  },
  "language_info": {
   "codemirror_mode": {
    "name": "ipython",
    "version": 3
   },
   "file_extension": ".py",
   "mimetype": "text/x-python",
   "name": "python",
   "nbconvert_exporter": "python",
   "pygments_lexer": "ipython3",
   "version": "3.8.10"
  }
 },
 "nbformat": 4,
 "nbformat_minor": 4
}
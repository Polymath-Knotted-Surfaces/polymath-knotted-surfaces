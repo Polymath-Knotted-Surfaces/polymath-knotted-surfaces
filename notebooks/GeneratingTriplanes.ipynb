{
 "cells": [
  {
   "cell_type": "code",
   "execution_count": 3,
   "id": "b6fefbde-a317-4a87-bc31-73cc34dcc6e0",
   "metadata": {},
   "outputs": [],
   "source": [
    "import sys\n",
    "sys.path.append('../scripts')\n",
    "from dyck_caps import *\n",
    "from braidgroup import *\n",
    "from cytoolz import *\n",
    "from knottedsurface import *\n",
    "from itertools import product\n",
    "import pandas as pd\n",
    "import numpy as np\n",
    "get=curry(get)"
   ]
  },
  {
   "cell_type": "code",
   "execution_count": 4,
   "id": "682e2128-2d89-40b5-b891-89527117fd8f",
   "metadata": {},
   "outputs": [
    {
     "name": "stdout",
     "output_type": "stream",
     "text": [
      "14\n"
     ]
    }
   ],
   "source": [
    "caps = list(gen_caps(4))\n",
    "caps = list(map(tuple, caps))\n",
    "print(len(caps))"
   ]
  },
  {
   "cell_type": "code",
   "execution_count": 8,
   "id": "614cf20e-5bcf-44f2-a5c9-8b824914ed83",
   "metadata": {},
   "outputs": [
    {
     "name": "stdout",
     "output_type": "stream",
     "text": [
      "2366\n",
      "number of potential diagrams is 6492304\n"
     ]
    }
   ],
   "source": [
    "# %%timeit\n",
    "# braids = reduce(lambda a,c: a+c, (braidsFromFile(8, k) for k in range(1,6)), []) #get all braids on 8 strands with <6 crossings\n",
    "braids = braidsFromFile(8,3)\n",
    "print(len(braids))\n",
    "print(f'number of potential diagrams is {len(caps)**3 * len(braids)}')"
   ]
  },
  {
   "cell_type": "code",
   "execution_count": 5,
   "id": "fd6039b7-5652-427c-97cb-4f629cdb4f55",
   "metadata": {},
   "outputs": [],
   "source": [
    "# potential_triplanes = product(caps, caps, caps, mybraids)\n",
    "idx = pd.MultiIndex.from_product([caps,caps,caps,braids],names=['c1','c2','c3','b'])\n",
    "df = pd.DataFrame(index=idx).reset_index()"
   ]
  },
  {
   "cell_type": "code",
   "execution_count": null,
   "id": "d28c3a5f-d10c-4703-a0e3-611a724990cb",
   "metadata": {},
   "outputs": [],
   "source": [
    "#this is too slow as of right now.\n",
    "#df['triplane'] = df.apply(lambda row:tupleCheck(*row[:4]), axis=1, raw=True) #raw=True bypasses pd.Series for row.\n",
    "# df['triplane'] = np.vectorize(tupleCheck)(df.c1,df.c2,df.c3,df.b)"
   ]
  },
  {
   "cell_type": "code",
   "execution_count": 7,
   "id": "22ff80c8-d0b3-4131-acaf-20a008f6ad28",
   "metadata": {},
   "outputs": [],
   "source": [
    "# %%timeit\n",
    "good_triples=dict()\n",
    "samps = df.sample(n=256)\n",
    "for i in range(256):\n",
    "    row = samps.iloc[i]\n",
    "    if bool(tupleCheck(*df.iloc[i])):\n",
    "        good_triples[i] = (row.c1,row.c2,row.c3,row.b)\n",
    "    else:\n",
    "        pass"
   ]
  },
  {
   "cell_type": "code",
   "execution_count": 8,
   "id": "cdfef01d-d7e5-450e-9e61-2cc933e13647",
   "metadata": {},
   "outputs": [
    {
     "data": {
      "text/plain": [
       "252"
      ]
     },
     "execution_count": 8,
     "metadata": {},
     "output_type": "execute_result"
    }
   ],
   "source": [
    "len(good_triples)"
   ]
  },
  {
   "cell_type": "code",
   "execution_count": null,
   "id": "04903761-c251-46b3-aa14-e85e5fc8cf0d",
   "metadata": {},
   "outputs": [],
   "source": [
    "good_triples"
   ]
  },
  {
   "cell_type": "code",
   "execution_count": null,
   "id": "d410d000-d355-4b8f-8e87-9d61716f2b96",
   "metadata": {},
   "outputs": [],
   "source": [
    "#Every 1-crossing thing works."
   ]
  },
  {
   "cell_type": "code",
   "execution_count": null,
   "id": "92da6706-c2b8-4483-87b8-98f07d9d2969",
   "metadata": {},
   "outputs": [],
   "source": [
    "with open(f'../braid_lists/b4_k15.csv', 'r'):\n",
    "          pass"
   ]
  },
  {
   "cell_type": "code",
   "execution_count": 12,
   "id": "918549a2-00f7-47e5-8135-03cb4af83fca",
   "metadata": {},
   "outputs": [
    {
     "data": {
      "text/plain": [
       "[[-7, -7, -7], [-7, -7, -6], [-7, -7, -5], [-7, -7, -4], [-7, -7, -3]]"
      ]
     },
     "execution_count": 12,
     "metadata": {},
     "output_type": "execute_result"
    }
   ],
   "source": [
    "braids[:5]"
   ]
  },
  {
   "cell_type": "code",
   "execution_count": 13,
   "id": "382a7ea9-7ae0-4650-9bec-0490c45f93f2",
   "metadata": {},
   "outputs": [
    {
     "data": {
      "text/plain": [
       "True"
      ]
     },
     "execution_count": 13,
     "metadata": {},
     "output_type": "execute_result"
    }
   ],
   "source": [
    "[-7,-5,-7] in braids"
   ]
  },
  {
   "cell_type": "code",
   "execution_count": null,
   "id": "17053d13-a9f6-4f55-99f7-5d511dd1ddd6",
   "metadata": {},
   "outputs": [],
   "source": []
  }
 ],
 "metadata": {
  "kernelspec": {
   "display_name": "Python (Conda:py39)",
   "language": "python",
   "name": "py39"
  },
  "language_info": {
   "codemirror_mode": {
    "name": "ipython",
    "version": 3
   },
   "file_extension": ".py",
   "mimetype": "text/x-python",
   "name": "python",
   "nbconvert_exporter": "python",
   "pygments_lexer": "ipython3",
   "version": "3.9.6"
  }
 },
 "nbformat": 4,
 "nbformat_minor": 5
}

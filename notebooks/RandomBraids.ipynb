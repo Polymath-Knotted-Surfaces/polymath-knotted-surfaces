{
  "cells": [
    {
      "cell_type": "code",
      "source": [
        "import numpy as np\n",
        "import pandas as pd\n",
        "from snappy import *\n",
        "from cytoolz import *\n",
        "from braidgenerator import *\n",
        "import spherogram as s\n",
        "import multiprocessing as m"
      ],
      "outputs": [],
      "execution_count": 1,
      "metadata": {},
      "id": "6a4c4ce2"
    },
    {
      "cell_type": "code",
      "source": [
        "numBraids = 10000; #generate 10k braids of each length\n",
        "maxLen    = 15;\n",
        "maxGen    = 15;\n",
        "numSteps  = 10;\n",
        "data = dict()\n",
        "for i in range(3,maxLen+1):\n",
        "    x = MarkovChain(braidword=[1,2,-2-1], maxgen=maxGen, maxlen=i)\n",
        "    res = None #Loop until it works. Random algorithms are weird!\n",
        "    while res is None:\n",
        "        try:\n",
        "            x.model(num_braidreps=numBraids, msteps=numSteps)\n",
        "            res = True\n",
        "        except:\n",
        "            pass\n",
        "    data[i] = pd.Series(x.braidreps()).map(lambda b: b.word)"
      ],
      "outputs": [],
      "execution_count": 2,
      "metadata": {},
      "id": "34a395f1"
    },
    {
      "cell_type": "code",
      "source": [
        "bs = ( pd.DataFrame([(k, v) for k in data.keys() for v in data[k]], columns=[\"length\", \"braid\"])\n",
        "         .assign(braid = lambda df: df.braid.map(lambda v: tuple(filter(lambda z: z!=0, v)))) #removes trivial letters 0 = id and convers to tuples, which are hashable\n",
        "         .drop_duplicates('braid')  #Drop duplicate entries.\n",
        "         .assign(braid = lambda df: df.braid.map(list)) #convert back to lists (ie words)\n",
        "         .assign(braid = lambda df: df.braid.replace(to_replace=[],value=pd.NA)) #replace empty braids with NA\n",
        "         .dropna() # drop empty braids\n",
        "         .sort_values(by=\"length\", ascending=False) #sort by lengthof braid, descending\n",
        "         .reset_index(drop=True) #reset the indexing to be nice.\n",
        "     )\n",
        "# print(len(bs))\n",
        "# 100 - len(bs)/sum(map(len, data)) * 100"
      ],
      "outputs": [],
      "execution_count": 3,
      "metadata": {},
      "id": "ec66a3c9"
    },
    {
      "cell_type": "code",
      "source": [
        "bs.length.value_counts(sort=False)"
      ],
      "outputs": [
        {
          "output_type": "execute_result",
          "execution_count": 4,
          "data": {
            "text/plain": "3        6\n4       24\n5      263\n6     1321\n7     4563\n8     9410\n9     8790\n10    8944\n11    8998\n12    9067\n13    9222\n14    9206\n15    9288\nName: length, dtype: int64"
          },
          "metadata": {}
        }
      ],
      "execution_count": 4,
      "metadata": {},
      "id": "a67cf281"
    },
    {
      "cell_type": "code",
      "source": [
        "t = bs[bs.length<= 5].braid\n",
        "links = [s.Link(braid_closure=braid) for braid in t]\n",
        "print(list(take(5, [L.PD_code() for L in links])))"
      ],
      "outputs": [
        {
          "output_type": "stream",
          "name": "stdout",
          "text": [
            "[[(8, 0, 9, 9), (1, 6, 2, 7), (5, 3, 6, 2), (4, 4, 5, 3), (7, 1, 8, 0)], [(8, 3, 9, 4), (5, 7, 6, 6), (2, 0, 3, 9), (4, 8, 5, 7), (1, 1, 2, 0)], [(5, 5, 6, 4), (2, 7, 3, 8), (8, 2, 9, 1), (6, 4, 7, 3), (9, 1, 0, 0)], [(2, 7, 3, 8), (8, 2, 9, 1), (6, 4, 7, 3), (5, 5, 6, 4), (9, 1, 0, 0)], [(6, 2, 7, 1), (8, 7, 9, 8), (3, 3, 4, 2), (4, 0, 5, 9), (5, 0, 6, 1)]]\n"
          ]
        }
      ],
      "execution_count": 5,
      "metadata": {},
      "id": "845a3f65"
    },
    {
      "cell_type": "code",
      "source": [
        "# links[0].view() #this stalls out jupyter.\n",
        "# %gui tk"
      ],
      "outputs": [],
      "execution_count": null,
      "metadata": {
        "scrolled": true
      },
      "id": "dd66fbee"
    },
    {
      "cell_type": "markdown",
      "source": [
        "If the fundamental group of $\\pi_1(S^3\\setminus K) \\cong \\mathbb{Z}$, we can be 100% certain that K is the unknot"
      ],
      "metadata": {},
      "id": "a2d12ba3"
    },
    {
      "cell_type": "code",
      "source": [
        "# def getFG(l: s.Link)-> FundamentalGroup:\n",
        "#     return L.exterior().fundamental_group()\n",
        "for L in take(5, links):\n",
        "    print(L.exterior().fundamental_group())"
      ],
      "outputs": [
        {
          "output_type": "stream",
          "name": "stdout",
          "text": [
            "Generators:\n",
            "   a\n",
            "Relators:\n",
            "   \n",
            "Generators:\n",
            "   a\n",
            "Relators:\n",
            "   \n",
            "Generators:\n",
            "   a\n",
            "Relators:\n",
            "   \n",
            "Generators:\n",
            "   a\n",
            "Relators:\n",
            "   \n",
            "Generators:\n",
            "   a\n",
            "Relators:\n",
            "   \n"
          ]
        }
      ],
      "execution_count": 6,
      "metadata": {},
      "id": "a67b88e4"
    },
    {
      "cell_type": "code",
      "source": [
        "mylink = links[0].connected_sum(links[1])"
      ],
      "outputs": [],
      "execution_count": 27,
      "metadata": {},
      "id": "ecf809f0"
    },
    {
      "cell_type": "code",
      "source": [
        "mylink.view()\n",
        "%gui tk"
      ],
      "outputs": [
        {
          "output_type": "stream",
          "name": "stdout",
          "text": [
            "\u001b[31mYour new Plink window needs an event loop to become visible.\n",
            "Type \"%gui tk\" below (without the quotes) to start one.\u001b[0m\n",
            "\n"
          ]
        }
      ],
      "execution_count": 28,
      "metadata": {},
      "id": "f6c974cc"
    },
    {
      "cell_type": "code",
      "source": [
        "mylink.braid_word()"
      ],
      "outputs": [
        {
          "output_type": "execute_result",
          "execution_count": 30,
          "data": {
            "text/plain": "[-1,\n 2,\n 1,\n -2,\n 3,\n 2,\n 4,\n -5,\n 6,\n 7,\n -8,\n -7,\n 9,\n -6,\n 8,\n 10,\n 5,\n 7,\n -9,\n -4,\n 6,\n 8,\n 3,\n 5,\n 7,\n 6,\n -7,\n -6,\n -8,\n -5,\n -7,\n 9,\n 6,\n -8,\n -10,\n 7,\n -9,\n 8]"
          },
          "metadata": {}
        }
      ],
      "execution_count": 30,
      "metadata": {},
      "id": "040e9f20"
    },
    {
      "cell_type": "code",
      "source": [],
      "outputs": [],
      "execution_count": null,
      "metadata": {},
      "id": "815d586d"
    }
  ],
  "metadata": {
    "kernelspec": {
      "display_name": "Python (Conda:py39)",
      "language": "python",
      "name": "py39"
    },
    "language_info": {
      "codemirror_mode": {
        "name": "ipython",
        "version": 3
      },
      "file_extension": ".py",
      "mimetype": "text/x-python",
      "name": "python",
      "nbconvert_exporter": "python",
      "pygments_lexer": "ipython3",
      "version": "3.9.5"
    },
    "nteract": {
      "version": "0.28.0"
    }
  },
  "nbformat": 4,
  "nbformat_minor": 5
}
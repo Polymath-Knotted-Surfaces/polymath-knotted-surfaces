{
 "cells": [
  {
   "cell_type": "code",
   "execution_count": 1,
   "id": "6a4c4ce2",
   "metadata": {},
   "outputs": [],
   "source": [
    "import pandas as pd\n",
    "from snappy import *\n",
    "from cytoolz import *\n",
    "from braidgenerator import *\n",
    "import spherogram as s\n",
    "import multiprocessing as m"
   ]
  },
  {
   "cell_type": "code",
   "execution_count": 2,
   "id": "34a395f1",
   "metadata": {},
   "outputs": [],
   "source": [
    "numBraids = 10000; #generate 10k braids of each length\n",
    "maxLen    = 15;\n",
    "maxGen    = 15;\n",
    "numSteps  = 10;\n",
    "data = dict()\n",
    "for i in range(3,maxLen+1):\n",
    "    x = MarkovChain(braidword=[1,2,-2-1], maxgen=maxGen, maxlen=i)\n",
    "    res = None #Loop until it works. Random algorithms are weird!\n",
    "    while res is None:\n",
    "        try:\n",
    "            x.model(num_braidreps=numBraids, msteps=numSteps)\n",
    "            res = True\n",
    "        except:\n",
    "            pass\n",
    "    data[i] = pd.Series(x.braidreps()).map(lambda b: b.word)"
   ]
  },
  {
   "cell_type": "code",
   "execution_count": 3,
   "id": "ec66a3c9",
   "metadata": {},
   "outputs": [],
   "source": [
    "bs = ( pd.DataFrame([(k, v) for k in data.keys() for v in data[k]], columns=[\"length\", \"braid\"])\n",
    "         .assign(braid = lambda df: df.braid.map(lambda v: tuple(filter(lambda z: z!=0, v)))) #removes trivial letters 0 = id and convers to tuples, which are hashable\n",
    "         .drop_duplicates('braid')  #Drop duplicate entries.\n",
    "         .assign(braid = lambda df: df.braid.map(list)) #convert back to lists (ie words)\n",
    "         .assign(braid = lambda df: df.braid.replace(to_replace=[],value=pd.NA)) #replace empty braids with NA\n",
    "         .dropna() # drop empty braids\n",
    "         .sort_values(by=\"length\", ascending=False) #sort by lengthof braid, descending\n",
    "         .reset_index(drop=True) #reset the indexing to be nice.\n",
    "     )\n",
    "# print(len(bs))\n",
    "# 100 - len(bs)/sum(map(len, data)) * 100"
   ]
  },
  {
   "cell_type": "code",
   "execution_count": 4,
   "id": "a67cf281",
   "metadata": {},
   "outputs": [
    {
     "data": {
      "text/plain": [
       "3        6\n",
       "4       24\n",
       "5      263\n",
       "6     1321\n",
       "7     4563\n",
       "8     9410\n",
       "9     8790\n",
       "10    8944\n",
       "11    8998\n",
       "12    9067\n",
       "13    9222\n",
       "14    9206\n",
       "15    9288\n",
       "Name: length, dtype: int64"
      ]
     },
     "execution_count": 4,
     "metadata": {},
     "output_type": "execute_result"
    }
   ],
   "source": [
    "bs.length.value_counts(sort=False)"
   ]
  },
  {
   "cell_type": "code",
   "execution_count": 5,
   "id": "845a3f65",
   "metadata": {},
   "outputs": [
    {
     "name": "stdout",
     "output_type": "stream",
     "text": [
      "[[(8, 0, 9, 9), (1, 6, 2, 7), (5, 3, 6, 2), (4, 4, 5, 3), (7, 1, 8, 0)], [(8, 3, 9, 4), (5, 7, 6, 6), (2, 0, 3, 9), (4, 8, 5, 7), (1, 1, 2, 0)], [(5, 5, 6, 4), (2, 7, 3, 8), (8, 2, 9, 1), (6, 4, 7, 3), (9, 1, 0, 0)], [(2, 7, 3, 8), (8, 2, 9, 1), (6, 4, 7, 3), (5, 5, 6, 4), (9, 1, 0, 0)], [(6, 2, 7, 1), (8, 7, 9, 8), (3, 3, 4, 2), (4, 0, 5, 9), (5, 0, 6, 1)]]\n"
     ]
    }
   ],
   "source": [
    "t = bs[bs.length<= 5].braid\n",
    "links = [s.Link(braid_closure=braid) for braid in t]\n",
    "print(list(take(5, [L.PD_code() for L in links])))"
   ]
  },
  {
   "cell_type": "code",
   "execution_count": null,
   "id": "dd66fbee",
   "metadata": {
    "scrolled": true
   },
   "outputs": [],
   "source": [
    "# links[0].view() #this stalls out jupyter.\n",
    "# %gui tk"
   ]
  },
  {
   "cell_type": "markdown",
   "id": "a2d12ba3",
   "metadata": {},
   "source": [
    "If the fundamental group of $\\pi_1(S^3\\setminus K) \\cong \\mathbb{Z}$, we can be 100% certain that K is the unknot"
   ]
  },
  {
   "cell_type": "code",
   "execution_count": 6,
   "id": "a67b88e4",
   "metadata": {},
   "outputs": [
    {
     "name": "stdout",
     "output_type": "stream",
     "text": [
      "Generators:\n",
      "   a\n",
      "Relators:\n",
      "   \n",
      "Generators:\n",
      "   a\n",
      "Relators:\n",
      "   \n",
      "Generators:\n",
      "   a\n",
      "Relators:\n",
      "   \n",
      "Generators:\n",
      "   a\n",
      "Relators:\n",
      "   \n",
      "Generators:\n",
      "   a\n",
      "Relators:\n",
      "   \n"
     ]
    }
   ],
   "source": [
    "# def getFG(l: s.Link)-> FundamentalGroup:\n",
    "#     return L.exterior().fundamental_group()\n",
    "for L in take(5, links):\n",
    "    print(L.exterior().fundamental_group())"
   ]
  },
  {
   "cell_type": "code",
   "execution_count": 27,
   "id": "ecf809f0",
   "metadata": {},
   "outputs": [],
   "source": [
    "mylink = links[0].connected_sum(links[1])"
   ]
  },
  {
   "cell_type": "code",
   "execution_count": 28,
   "id": "f6c974cc",
   "metadata": {},
   "outputs": [
    {
     "name": "stdout",
     "output_type": "stream",
     "text": [
      "\u001b[31mYour new Plink window needs an event loop to become visible.\n",
      "Type \"%gui tk\" below (without the quotes) to start one.\u001b[0m\n",
      "\n"
     ]
    }
   ],
   "source": [
    "mylink.view()\n",
    "%gui tk"
   ]
  },
  {
   "cell_type": "code",
   "execution_count": 30,
   "id": "040e9f20",
   "metadata": {},
   "outputs": [
    {
     "data": {
      "text/plain": [
       "[-1,\n",
       " 2,\n",
       " 1,\n",
       " -2,\n",
       " 3,\n",
       " 2,\n",
       " 4,\n",
       " -5,\n",
       " 6,\n",
       " 7,\n",
       " -8,\n",
       " -7,\n",
       " 9,\n",
       " -6,\n",
       " 8,\n",
       " 10,\n",
       " 5,\n",
       " 7,\n",
       " -9,\n",
       " -4,\n",
       " 6,\n",
       " 8,\n",
       " 3,\n",
       " 5,\n",
       " 7,\n",
       " 6,\n",
       " -7,\n",
       " -6,\n",
       " -8,\n",
       " -5,\n",
       " -7,\n",
       " 9,\n",
       " 6,\n",
       " -8,\n",
       " -10,\n",
       " 7,\n",
       " -9,\n",
       " 8]"
      ]
     },
     "execution_count": 30,
     "metadata": {},
     "output_type": "execute_result"
    }
   ],
   "source": [
    "mylink.braid_word()"
   ]
  },
  {
   "cell_type": "code",
   "execution_count": null,
   "id": "815d586d",
   "metadata": {},
   "outputs": [],
   "source": []
  }
 ],
 "metadata": {
  "kernelspec": {
   "display_name": "Python (Conda:py39)",
   "language": "python",
   "name": "py39"
  },
  "language_info": {
   "codemirror_mode": {
    "name": "ipython",
    "version": 3
   },
   "file_extension": ".py",
   "mimetype": "text/x-python",
   "name": "python",
   "nbconvert_exporter": "python",
   "pygments_lexer": "ipython3",
   "version": "3.9.6"
  },
  "nteract": {
   "version": "0.28.0"
  },
  "toc": {
   "base_numbering": 1,
   "nav_menu": {},
   "number_sections": false,
   "sideBar": false,
   "skip_h1_title": false,
   "title_cell": "Table of Contents",
   "title_sidebar": "Contents",
   "toc_cell": false,
   "toc_position": {},
   "toc_section_display": false,
   "toc_window_display": false
  }
 },
 "nbformat": 4,
 "nbformat_minor": 5
}

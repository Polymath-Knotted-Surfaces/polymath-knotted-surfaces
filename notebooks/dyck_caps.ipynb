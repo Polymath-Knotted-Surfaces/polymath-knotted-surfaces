{
  "cells": [
    {
      "cell_type": "code",
      "source": [
        "import sys\n",
        "sys.path.append('../scripts/') #navigate to the scripts directory\n",
        "from dyck_caps import *"
      ],
      "outputs": [],
      "execution_count": 5,
      "metadata": {
        "collapsed": true,
        "jupyter": {
          "source_hidden": false,
          "outputs_hidden": false
        },
        "nteract": {
          "transient": {
            "deleting": false
          }
        },
        "execution": {
          "iopub.status.busy": "2021-07-14T03:57:03.136Z",
          "iopub.execute_input": "2021-07-14T03:57:03.142Z",
          "iopub.status.idle": "2021-07-14T03:57:03.150Z",
          "shell.execute_reply": "2021-07-14T03:57:03.216Z"
        }
      }
    },
    {
      "cell_type": "code",
      "source": [
        "h = dyck(4)\n",
        "print(h)"
      ],
      "outputs": [
        {
          "output_type": "stream",
          "name": "stdout",
          "text": [
            "['()()()()', '()()(())', '()(())()', '()(()())', '()((()))', '(())()()', '(())(())', '(()())()', '((()))()', '(()()())', '(()(()))', '((())())', '((()()))', '(((())))']\n"
          ]
        }
      ],
      "execution_count": 7,
      "metadata": {
        "collapsed": true,
        "jupyter": {
          "source_hidden": false,
          "outputs_hidden": false
        },
        "nteract": {
          "transient": {
            "deleting": false
          }
        },
        "execution": {
          "iopub.status.busy": "2021-07-14T03:57:33.818Z",
          "iopub.execute_input": "2021-07-14T03:57:33.824Z",
          "iopub.status.idle": "2021-07-14T03:57:33.900Z",
          "shell.execute_reply": "2021-07-14T03:57:33.903Z"
        }
      }
    },
    {
      "cell_type": "code",
      "source": [
        "dyck_to_caps(h[0])"
      ],
      "outputs": [
        {
          "output_type": "execute_result",
          "execution_count": 9,
          "data": {
            "text/plain": "[(1, 2), (3, 4), (5, 6), (7, 8)]"
          },
          "metadata": {}
        }
      ],
      "execution_count": 9,
      "metadata": {
        "collapsed": true,
        "jupyter": {
          "source_hidden": false,
          "outputs_hidden": false
        },
        "nteract": {
          "transient": {
            "deleting": false
          }
        },
        "execution": {
          "iopub.status.busy": "2021-07-14T03:57:56.975Z",
          "iopub.execute_input": "2021-07-14T03:57:56.982Z",
          "iopub.status.idle": "2021-07-14T03:57:57.059Z",
          "shell.execute_reply": "2021-07-14T03:57:57.071Z"
        }
      }
    },
    {
      "cell_type": "code",
      "source": [
        "list(map(dyck_to_caps, h)) #These are all of the cap diagrams on 8 strands!"
      ],
      "outputs": [
        {
          "output_type": "execute_result",
          "execution_count": 10,
          "data": {
            "text/plain": "[[(1, 2), (3, 4), (5, 6), (7, 8)],\n [(1, 2), (3, 4), (5, 8), (6, 7)],\n [(1, 2), (3, 6), (4, 5), (7, 8)],\n [(1, 2), (3, 8), (4, 5), (6, 7)],\n [(1, 2), (3, 8), (4, 7), (5, 6)],\n [(1, 4), (2, 3), (5, 6), (7, 8)],\n [(1, 4), (2, 3), (5, 8), (6, 7)],\n [(1, 6), (2, 3), (4, 5), (7, 8)],\n [(1, 6), (2, 5), (3, 4), (7, 8)],\n [(1, 8), (2, 3), (4, 5), (6, 7)],\n [(1, 8), (2, 3), (4, 7), (5, 6)],\n [(1, 8), (2, 5), (3, 4), (6, 7)],\n [(1, 8), (2, 7), (3, 4), (5, 6)],\n [(1, 8), (2, 7), (3, 6), (4, 5)]]"
          },
          "metadata": {}
        }
      ],
      "execution_count": 10,
      "metadata": {
        "collapsed": true,
        "jupyter": {
          "source_hidden": false,
          "outputs_hidden": false
        },
        "nteract": {
          "transient": {
            "deleting": false
          }
        },
        "execution": {
          "iopub.status.busy": "2021-07-14T03:58:09.147Z",
          "iopub.execute_input": "2021-07-14T03:58:09.154Z",
          "iopub.status.idle": "2021-07-14T03:58:09.167Z",
          "shell.execute_reply": "2021-07-14T03:58:09.171Z"
        }
      }
    },
    {
      "cell_type": "code",
      "source": [],
      "outputs": [],
      "execution_count": null,
      "metadata": {
        "collapsed": true,
        "jupyter": {
          "source_hidden": false,
          "outputs_hidden": false
        },
        "nteract": {
          "transient": {
            "deleting": false
          }
        }
      }
    }
  ],
  "metadata": {
    "kernel_info": {
      "name": "python3"
    },
    "language_info": {
      "name": "python",
      "version": "3.9.6",
      "mimetype": "text/x-python",
      "codemirror_mode": {
        "name": "ipython",
        "version": 3
      },
      "pygments_lexer": "ipython3",
      "nbconvert_exporter": "python",
      "file_extension": ".py"
    },
    "kernelspec": {
      "argv": [
        "C:/Anaconda3\\python.exe",
        "-m",
        "ipykernel_launcher",
        "-f",
        "{connection_file}"
      ],
      "display_name": "Python 3",
      "language": "python",
      "name": "python3"
    },
    "nteract": {
      "version": "0.28.0"
    }
  },
  "nbformat": 4,
  "nbformat_minor": 0
}
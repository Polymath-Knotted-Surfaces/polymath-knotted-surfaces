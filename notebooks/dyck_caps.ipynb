{
 "cells": [
  {
   "cell_type": "code",
   "execution_count": 1,
   "metadata": {
    "execution": {
     "iopub.execute_input": "2021-07-14T03:57:03.142Z",
     "iopub.status.busy": "2021-07-14T03:57:03.136Z",
     "iopub.status.idle": "2021-07-14T03:57:03.150Z",
     "shell.execute_reply": "2021-07-14T03:57:03.216Z"
    },
    "jupyter": {
     "outputs_hidden": false,
     "source_hidden": false
    },
    "nteract": {
     "transient": {
      "deleting": false
     }
    }
   },
   "outputs": [],
   "source": [
    "import sys\n",
    "sys.path.append('../scripts/') #navigate to the scripts directory\n",
    "from dyck_caps import *"
   ]
  },
  {
   "cell_type": "code",
   "execution_count": 2,
   "metadata": {
    "execution": {
     "iopub.execute_input": "2021-07-14T03:57:33.824Z",
     "iopub.status.busy": "2021-07-14T03:57:33.818Z",
     "iopub.status.idle": "2021-07-14T03:57:33.900Z",
     "shell.execute_reply": "2021-07-14T03:57:33.903Z"
    },
    "jupyter": {
     "outputs_hidden": false,
     "source_hidden": false
    },
    "nteract": {
     "transient": {
      "deleting": false
     }
    }
   },
   "outputs": [
    {
     "name": "stdout",
     "output_type": "stream",
     "text": [
      "['()()()()', '()()(())', '()(())()', '()(()())', '()((()))', '(())()()', '(())(())', '(()())()', '((()))()', '(()()())', '(()(()))', '((())())', '((()()))', '(((())))']\n"
     ]
    }
   ],
   "source": [
    "h = dyck(4)\n",
    "print(h)"
   ]
  },
  {
   "cell_type": "code",
   "execution_count": 9,
   "metadata": {
    "collapsed": true,
    "execution": {
     "iopub.execute_input": "2021-07-14T03:57:56.982Z",
     "iopub.status.busy": "2021-07-14T03:57:56.975Z",
     "iopub.status.idle": "2021-07-14T03:57:57.059Z",
     "shell.execute_reply": "2021-07-14T03:57:57.071Z"
    },
    "jupyter": {
     "outputs_hidden": false,
     "source_hidden": false
    },
    "nteract": {
     "transient": {
      "deleting": false
     }
    }
   },
   "outputs": [
    {
     "data": {
      "text/plain": [
       "[(1, 2), (3, 4), (5, 6), (7, 8)]"
      ]
     },
     "execution_count": 9,
     "metadata": {},
     "output_type": "execute_result"
    }
   ],
   "source": [
    "dyck_to_caps(h[0])"
   ]
  },
  {
   "cell_type": "code",
   "execution_count": 10,
   "metadata": {
    "collapsed": true,
    "execution": {
     "iopub.execute_input": "2021-07-14T03:58:09.154Z",
     "iopub.status.busy": "2021-07-14T03:58:09.147Z",
     "iopub.status.idle": "2021-07-14T03:58:09.167Z",
     "shell.execute_reply": "2021-07-14T03:58:09.171Z"
    },
    "jupyter": {
     "outputs_hidden": false,
     "source_hidden": false
    },
    "nteract": {
     "transient": {
      "deleting": false
     }
    }
   },
   "outputs": [
    {
     "data": {
      "text/plain": [
       "[[(1, 2), (3, 4), (5, 6), (7, 8)],\n",
       " [(1, 2), (3, 4), (5, 8), (6, 7)],\n",
       " [(1, 2), (3, 6), (4, 5), (7, 8)],\n",
       " [(1, 2), (3, 8), (4, 5), (6, 7)],\n",
       " [(1, 2), (3, 8), (4, 7), (5, 6)],\n",
       " [(1, 4), (2, 3), (5, 6), (7, 8)],\n",
       " [(1, 4), (2, 3), (5, 8), (6, 7)],\n",
       " [(1, 6), (2, 3), (4, 5), (7, 8)],\n",
       " [(1, 6), (2, 5), (3, 4), (7, 8)],\n",
       " [(1, 8), (2, 3), (4, 5), (6, 7)],\n",
       " [(1, 8), (2, 3), (4, 7), (5, 6)],\n",
       " [(1, 8), (2, 5), (3, 4), (6, 7)],\n",
       " [(1, 8), (2, 7), (3, 4), (5, 6)],\n",
       " [(1, 8), (2, 7), (3, 6), (4, 5)]]"
      ]
     },
     "execution_count": 10,
     "metadata": {},
     "output_type": "execute_result"
    }
   ],
   "source": [
    "list(map(dyck_to_caps, h)) #These are all of the cap diagrams on 8 strands!"
   ]
  },
  {
   "cell_type": "code",
   "execution_count": 3,
   "metadata": {
    "jupyter": {
     "outputs_hidden": false,
     "source_hidden": false
    },
    "nteract": {
     "transient": {
      "deleting": false
     }
    }
   },
   "outputs": [],
   "source": [
    "m = map(dyck_to_caps, h)"
   ]
  },
  {
   "cell_type": "code",
   "execution_count": 4,
   "metadata": {},
   "outputs": [
    {
     "data": {
      "text/plain": [
       "map"
      ]
     },
     "execution_count": 4,
     "metadata": {},
     "output_type": "execute_result"
    }
   ],
   "source": [
    "type(m)"
   ]
  },
  {
   "cell_type": "code",
   "execution_count": 5,
   "metadata": {},
   "outputs": [
    {
     "data": {
      "text/plain": [
       "['__class__',\n",
       " '__delattr__',\n",
       " '__dir__',\n",
       " '__doc__',\n",
       " '__eq__',\n",
       " '__format__',\n",
       " '__ge__',\n",
       " '__getattribute__',\n",
       " '__gt__',\n",
       " '__hash__',\n",
       " '__init__',\n",
       " '__init_subclass__',\n",
       " '__iter__',\n",
       " '__le__',\n",
       " '__lt__',\n",
       " '__ne__',\n",
       " '__new__',\n",
       " '__next__',\n",
       " '__reduce__',\n",
       " '__reduce_ex__',\n",
       " '__repr__',\n",
       " '__setattr__',\n",
       " '__sizeof__',\n",
       " '__str__',\n",
       " '__subclasshook__']"
      ]
     },
     "execution_count": 5,
     "metadata": {},
     "output_type": "execute_result"
    }
   ],
   "source": [
    "dir(m)"
   ]
  },
  {
   "cell_type": "code",
   "execution_count": 6,
   "metadata": {},
   "outputs": [
    {
     "data": {
      "text/plain": [
       "map"
      ]
     },
     "execution_count": 6,
     "metadata": {},
     "output_type": "execute_result"
    }
   ],
   "source": [
    "m.__class__"
   ]
  },
  {
   "cell_type": "code",
   "execution_count": null,
   "metadata": {},
   "outputs": [],
   "source": []
  }
 ],
 "metadata": {
  "kernel_info": {
   "name": "python3"
  },
  "kernelspec": {
   "display_name": "Python 3 (ipykernel)",
   "language": "python",
   "name": "python3"
  },
  "language_info": {
   "codemirror_mode": {
    "name": "ipython",
    "version": 3
   },
   "file_extension": ".py",
   "mimetype": "text/x-python",
   "name": "python",
   "nbconvert_exporter": "python",
   "pygments_lexer": "ipython3",
   "version": "3.9.6"
  },
  "nteract": {
   "version": "0.28.0"
  },
  "toc": {
   "base_numbering": 1,
   "nav_menu": {},
   "number_sections": false,
   "sideBar": false,
   "skip_h1_title": false,
   "title_cell": "Table of Contents",
   "title_sidebar": "Contents",
   "toc_cell": false,
   "toc_position": {},
   "toc_section_display": false,
   "toc_window_display": false
  }
 },
 "nbformat": 4,
 "nbformat_minor": 1
}

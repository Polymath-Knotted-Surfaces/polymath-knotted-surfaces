{
 "cells": [
  {
   "cell_type": "code",
   "execution_count": 1,
   "metadata": {},
   "outputs": [],
   "source": [
    "n = 8\n",
    "B = BraidGroup(n)\n",
    "s = B.gens()"
   ]
  },
  {
   "cell_type": "code",
   "execution_count": 2,
   "metadata": {},
   "outputs": [],
   "source": [
    "\"\"\"\n",
    "returns the set of all group elements given by words of length at most 'radius'\n",
    "note that the 'set' data structure does not allow repeated elements\n",
    "\"\"\"\n",
    "def ball(group: BraidGroup, radius: int):\n",
    "    ret = set()\n",
    "    ret.add(group.one())\n",
    "    # naive algorithm: loop over all words of length at most n and add them to the set\n",
    "    for length in range(1, radius):\n",
    "        A = [g for g in group.gens()] + [g ** -1 for g in group.gens()]\n",
    "        for w in Words(alphabet=A, length=length):\n",
    "            ret.add(prod(w))\n",
    "    return ret"
   ]
  },
  {
   "cell_type": "code",
   "execution_count": 3,
   "metadata": {},
   "outputs": [],
   "source": [
    "\"\"\"\n",
    "same functionality as ball but strictly better implementation\n",
    "uses dynamic programming to avoid looping over multiple words that represent the same group element\n",
    "\"\"\"\n",
    "def better_ball(group: BraidGroup, radius: int):\n",
    "    group_elts = set()\n",
    "    group_elts.add(group.one()) # start with only identity element\n",
    "    gens = [g for g in group.gens()] + [g**-1 for g in group.gens()]\n",
    "    for _ in range(radius - 1):\n",
    "        # add new words to their own set because group_elts can't be modified while looping over it\n",
    "        # loop over previously generated words and generators and store all newly created words\n",
    "        new_elts = set()\n",
    "        for g_0 in gens:\n",
    "            for g in group_elts:\n",
    "                new_elts.add(g*g_0)\n",
    "        # add new elements to group_elts\n",
    "        group_elts.update(new_elts)\n",
    "    return group_elts"
   ]
  },
  {
   "cell_type": "code",
   "execution_count": null,
   "metadata": {},
   "outputs": [],
   "source": [
    "\"\"\"\n",
    "time comparison (should be less than a minute total)\n",
    "better_ball is consistently at least twice as fast\n",
    "\"\"\"\n",
    "k = 5\n",
    "%time print(len(ball(B,k)))\n",
    "%time print(len(better_ball(B,k)))"
   ]
  },
  {
   "cell_type": "code",
   "execution_count": 4,
   "metadata": {},
   "outputs": [
    {
     "data": {
      "text/plain": [
       "s6^-1*s3"
      ]
     },
     "execution_count": 4,
     "metadata": {},
     "output_type": "execute_result"
    }
   ],
   "source": [
    "g = list(better_ball(B, 3))[2]\n",
    "g"
   ]
  },
  {
   "cell_type": "code",
   "execution_count": 19,
   "metadata": {},
   "outputs": [],
   "source": [
    "import numpy as np\n",
    "import itertools as it\n",
    "import operator as op\n",
    "import cytoolz as ct\n",
    "from typing import NewType, List, Tuple\n",
    "import sage\n",
    "SageBraid = NewType('SageBraid', sage.groups.braid.BraidGroup_class.Element)\n",
    "def sage_to_tuple(g:SageBraid) -> List[int]:\n",
    "    return ct.reduce(op.concat, [[np.sign(x[1])*(int(str(x[0])[-1])+1)]*abs(x[1]) for x in g.syllables()])"
   ]
  },
  {
   "cell_type": "code",
   "execution_count": 31,
   "metadata": {},
   "outputs": [],
   "source": [
    "elts = list(better_ball(BraidGroup(8),3))"
   ]
  },
  {
   "cell_type": "code",
   "execution_count": 32,
   "metadata": {},
   "outputs": [
    {
     "data": {
      "text/plain": [
       "137"
      ]
     },
     "execution_count": 32,
     "metadata": {},
     "output_type": "execute_result"
    }
   ],
   "source": [
    "len(elts)"
   ]
  },
  {
   "cell_type": "raw",
   "metadata": {},
   "source": []
  }
 ],
 "metadata": {
  "kernelspec": {
   "display_name": "SageMath 9.2",
   "language": "sage",
   "name": "sagemath"
  },
  "language_info": {
   "codemirror_mode": {
    "name": "ipython",
    "version": 3
   },
   "file_extension": ".py",
   "mimetype": "text/x-python",
   "name": "python",
   "nbconvert_exporter": "python",
   "pygments_lexer": "ipython3",
   "version": "3.7.7"
  }
 },
 "nbformat": 4,
 "nbformat_minor": 4
}

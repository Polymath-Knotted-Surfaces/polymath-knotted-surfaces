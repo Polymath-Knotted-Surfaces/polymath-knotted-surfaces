{
 "cells": [
  {
   "cell_type": "code",
   "execution_count": 1,
   "metadata": {},
   "outputs": [
    {
     "data": {
      "text/plain": [
       "(s0, s1, s2, s3, s4, s5, s6)"
      ]
     },
     "execution_count": 1,
     "metadata": {},
     "output_type": "execute_result"
    }
   ],
   "source": [
    "n = 8\n",
    "B = BraidGroup(n)\n",
    "B.gens()"
   ]
  },
  {
   "cell_type": "code",
   "execution_count": 2,
   "metadata": {},
   "outputs": [],
   "source": [
    "\"\"\"\n",
    "returns the set of all group elements given by words of length at most 'radius'\n",
    "note that the 'set' data structure does not allow repeated elements\n",
    "\"\"\"\n",
    "def ball(group: BraidGroup, radius: int):\n",
    "    ret = set()\n",
    "    ret.add(group.one())\n",
    "    # naive algorithm: loop over all words of length at most n and add them to the set\n",
    "    for length in range(1, radius):\n",
    "        A = [g for g in group.gens()] + [g ** -1 for g in group.gens()]\n",
    "        for w in Words(alphabet=A, length=length):\n",
    "            ret.add(prod(w))\n",
    "    return ret"
   ]
  },
  {
   "cell_type": "code",
   "execution_count": 3,
   "metadata": {},
   "outputs": [],
   "source": [
    "\"\"\"\n",
    "same functionality as ball but strictly better implementation\n",
    "uses dynamic programming to avoid looping over multiple words that represent the same group element\n",
    "\"\"\"\n",
    "def better_ball(group: BraidGroup, radius: int):\n",
    "    group_elts = set()\n",
    "    group_elts.add(group.one()) # start with only identity element\n",
    "    gens = [g for g in group.gens()] + [g**-1 for g in group.gens()]\n",
    "    for _ in range(radius - 1):\n",
    "        # add new words to their own set because group_elts can't be modified while looping over it\n",
    "        # loop over previously generated words and generators and store all newly created words\n",
    "        new_elts = set()\n",
    "        for g_0 in gens:\n",
    "            for g in group_elts:\n",
    "                new_elts.add(g*g_0)\n",
    "        # add new elements to group_elts\n",
    "        group_elts.update(new_elts)\n",
    "    return group_elts"
   ]
  },
  {
   "cell_type": "code",
   "execution_count": 4,
   "metadata": {},
   "outputs": [
    {
     "name": "stdout",
     "output_type": "stream",
     "text": [
      "6189\n",
      "CPU times: user 27 s, sys: 173 ms, total: 27.1 s\n",
      "Wall time: 27.2 s\n",
      "6189\n",
      "CPU times: user 8.98 s, sys: 41.9 ms, total: 9.02 s\n",
      "Wall time: 9.02 s\n"
     ]
    }
   ],
   "source": [
    "\"\"\"\n",
    "time comparison (should be less than a minute total)\n",
    "better_ball is consistently at least twice as fast\n",
    "\"\"\"\n",
    "k = 5\n",
    "%time print(len(ball(B,k)))\n",
    "%time print(len(better_ball(B,k)))"
   ]
  },
  {
   "cell_type": "code",
   "execution_count": null,
   "metadata": {},
   "outputs": [],
   "source": []
  }
 ],
 "metadata": {
  "kernelspec": {
   "display_name": "SageMath 9.3",
   "language": "sage",
   "name": "sagemath"
  },
  "language_info": {
   "codemirror_mode": {
    "name": "ipython",
    "version": 3
   },
   "file_extension": ".py",
   "mimetype": "text/x-python",
   "name": "python",
   "nbconvert_exporter": "python",
   "pygments_lexer": "ipython3",
   "version": "3.9.5"
  }
 },
 "nbformat": 4,
 "nbformat_minor": 4
}

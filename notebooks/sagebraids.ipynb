{
 "cells": [
  {
   "cell_type": "code",
   "execution_count": 18,
   "metadata": {
    "collapsed": false
   },
   "outputs": [
    {
     "data": {
      "text/plain": [
       "(s0, s1, s2, s3, s4, s5, s6)"
      ]
     },
     "execution_count": 18,
     "metadata": {
     },
     "output_type": "execute_result"
    }
   ],
   "source": [
    "n = 8\n",
    "B = BraidGroup(n)\n",
    "B.gens()"
   ]
  },
  {
   "cell_type": "code",
   "execution_count": 10,
   "metadata": {
    "collapsed": false
   },
   "outputs": [
   ],
   "source": [
    "def ball(group, radius):\n",
    "     ret = set()\n",
    "     ret.add(group.one())\n",
    "     for length in range(1, radius):\n",
    "         A = [g for g in group.gens()] + [g ** -1 for g in group.gens()]\n",
    "         for w in Words(alphabet=A, length=length):\n",
    "              ret.add(prod(w))\n",
    "     return ret"
   ]
  },
  {
   "cell_type": "code",
   "execution_count": 19,
   "metadata": {
    "collapsed": false
   },
   "outputs": [
    {
     "data": {
      "text/plain": [
       "{1,\n",
       " s0,\n",
       " s1,\n",
       " s2,\n",
       " s3,\n",
       " s4,\n",
       " s5,\n",
       " s6,\n",
       " s0^-1,\n",
       " s1^-1,\n",
       " s2^-1,\n",
       " s3^-1,\n",
       " s4^-1,\n",
       " s5^-1,\n",
       " s6^-1}"
      ]
     },
     "execution_count": 19,
     "metadata": {
     },
     "output_type": "execute_result"
    }
   ],
   "source": [
    "ball(B, 2)"
   ]
  },
  {
   "cell_type": "code",
   "execution_count": 31,
   "metadata": {
    "collapsed": false
   },
   "outputs": [
   ],
   "source": [
    "def better_ball(group, radius):\n",
    "    group_elts = set()\n",
    "    group_elts.add(group.one())\n",
    "    gens = [g for g in group.gens()] + [g**-1 for g in group.gens()]\n",
    "    for _ in range(radius - 1):\n",
    "        new_elts = set()\n",
    "        for g_0 in gens:\n",
    "            for g in group_elts:\n",
    "                new_elts.add(g*g_0)\n",
    "        group_elts.update(new_elts)\n",
    "    return group_elts"
   ]
  },
  {
   "cell_type": "code",
   "execution_count": 32,
   "metadata": {
    "collapsed": false
   },
   "outputs": [
    {
     "data": {
      "text/plain": [
       "987"
      ]
     },
     "execution_count": 32,
     "metadata": {
     },
     "output_type": "execute_result"
    }
   ],
   "source": [
    "len(better_ball(B,4))"
   ]
  },
  {
   "cell_type": "code",
   "execution_count": 29,
   "metadata": {
    "collapsed": false
   },
   "outputs": [
    {
     "data": {
      "text/plain": [
       "987"
      ]
     },
     "execution_count": 29,
     "metadata": {
     },
     "output_type": "execute_result"
    }
   ],
   "source": [
    "len(ball(B,4))"
   ]
  },
  {
   "cell_type": "code",
   "execution_count": 33,
   "metadata": {
    "collapsed": false
   },
   "outputs": [
    {
     "data": {
      "text/plain": [
       "6189"
      ]
     },
     "execution_count": 33,
     "metadata": {
     },
     "output_type": "execute_result"
    }
   ],
   "source": [
    "len(better_ball(B,5))"
   ]
  },
  {
   "cell_type": "code",
   "execution_count": 0,
   "metadata": {
    "collapsed": false
   },
   "outputs": [
   ],
   "source": [
   ]
  }
 ],
 "metadata": {
  "kernelspec": {
   "display_name": "SageMath 9.3",
   "language": "sagemath",
   "metadata": {
    "cocalc": {
     "description": "Open-source mathematical software system",
     "priority": 10,
     "url": "https://www.sagemath.org/"
    }
   },
   "name": "sage-9.3",
   "resource_dir": "/ext/jupyter/kernels/sage-9.3"
  },
  "language_info": {
   "codemirror_mode": {
    "name": "ipython",
    "version": 3
   },
   "file_extension": ".py",
   "mimetype": "text/x-python",
   "name": "python",
   "nbconvert_exporter": "python",
   "pygments_lexer": "ipython3",
   "version": "3.9.2"
  }
 },
 "nbformat": 4,
 "nbformat_minor": 4
}
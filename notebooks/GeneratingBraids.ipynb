{
 "cells": [
  {
   "cell_type": "code",
   "execution_count": 1,
   "id": "f01749b9",
   "metadata": {},
   "outputs": [],
   "source": [
    "import sys\n",
    "sys.path.append('../scripts')\n",
    "from braidgroup import *\n",
    "from sympy.combinatorics.free_groups import free_group\n",
    "from sympy.combinatorics.fp_groups import FpGroup\n",
    "import sympy.combinatorics.free_groups as scf\n",
    "from itertools import product\n",
    "from cytoolz import reduce, pipe, curry, flip, valfilter, get\n",
    "from operator import mul, add, pow\n",
    "import collections.abc as c\n",
    "import csv"
   ]
  },
  {
   "cell_type": "code",
   "execution_count": 2,
   "id": "d3c56af4",
   "metadata": {},
   "outputs": [
    {
     "data": {
      "text/plain": [
       "[[-3, -3],\n",
       " [-3, -2],\n",
       " [-3, -1],\n",
       " [-3, 1],\n",
       " [-3, 2],\n",
       " [-3, 3],\n",
       " [-2, -2],\n",
       " [-2, -1],\n",
       " [-2, 1],\n",
       " [-2, 3],\n",
       " [-1, -1],\n",
       " [-1, 2],\n",
       " [-1, 3],\n",
       " [1, 1],\n",
       " [1, 2],\n",
       " [1, 3],\n",
       " [2, 2],\n",
       " [2, 3],\n",
       " [3, 3]]"
      ]
     },
     "execution_count": 2,
     "metadata": {},
     "output_type": "execute_result"
    }
   ],
   "source": [
    "braidsNoRepeats(4, 2)"
   ]
  },
  {
   "cell_type": "code",
   "execution_count": 3,
   "id": "b9e6e326",
   "metadata": {},
   "outputs": [],
   "source": [
    "for j in range(3,13):\n",
    "    braidsNoRepeats(4,j)"
   ]
  }
 ],
 "metadata": {
  "kernelspec": {
   "display_name": "Python 3 (ipykernel)",
   "language": "python",
   "name": "python3"
  },
  "language_info": {
   "codemirror_mode": {
    "name": "ipython",
    "version": 3
   },
   "file_extension": ".py",
   "mimetype": "text/x-python",
   "name": "python",
   "nbconvert_exporter": "python",
   "pygments_lexer": "ipython3",
   "version": "3.9.6"
  }
 },
 "nbformat": 4,
 "nbformat_minor": 5
}

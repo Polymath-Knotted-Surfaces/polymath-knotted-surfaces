{
 "cells": [
  {
   "cell_type": "code",
   "execution_count": 1,
   "id": "f01749b9",
   "metadata": {},
   "outputs": [],
   "source": [
    "import sys\n",
    "sys.path.append('../scripts')\n",
    "from braidgroup import *\n",
    "from sympy.combinatorics.free_groups import free_group\n",
    "from sympy.combinatorics.fp_groups import FpGroup\n",
    "import sympy.combinatorics.free_groups as scf\n",
    "from itertools import product\n",
    "from cytoolz import reduce, pipe, curry, flip, valfilter, get\n",
    "from operator import mul, add, pow\n",
    "import collections.abc as c\n",
    "import csv"
   ]
  },
  {
   "cell_type": "code",
   "execution_count": 3,
   "id": "b9e6e326",
   "metadata": {},
   "outputs": [],
   "source": [
    "for i in range(4):\n",
    "    braidsNoRepeats(2*(i+1), 8)"
   ]
  },
  {
   "cell_type": "code",
   "execution_count": null,
   "id": "98b33d73",
   "metadata": {},
   "outputs": [],
   "source": []
  }
 ],
 "metadata": {
  "kernelspec": {
   "display_name": "Python 3 (ipykernel)",
   "language": "python",
   "name": "python3"
  },
  "language_info": {
   "codemirror_mode": {
    "name": "ipython",
    "version": 3
   },
   "file_extension": ".py",
   "mimetype": "text/x-python",
   "name": "python",
   "nbconvert_exporter": "python",
   "pygments_lexer": "ipython3",
   "version": "3.9.6"
  }
 },
 "nbformat": 4,
 "nbformat_minor": 5
}

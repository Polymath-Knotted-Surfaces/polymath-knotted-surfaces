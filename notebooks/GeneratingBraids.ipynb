{
 "cells": [
  {
   "cell_type": "code",
   "execution_count": 1,
   "id": "f01749b9",
   "metadata": {},
   "outputs": [],
   "source": [
    "import sys\n",
    "sys.path.append('../scripts')\n",
    "from braidgroup import *\n",
    "from sympy.combinatorics.free_groups import free_group\n",
    "from sympy.combinatorics.fp_groups import FpGroup\n",
    "import sympy.combinatorics.free_groups as scf\n",
    "from itertools import product\n",
    "from cytoolz import reduce, pipe, curry, flip, valfilter, get\n",
    "from operator import mul, add, pow\n",
    "import collections.abc as c\n",
    "import csv\n",
    "import time"
   ]
  },
  {
   "cell_type": "code",
<<<<<<< HEAD
   "execution_count": null,
   "id": "b9e6e326",
   "metadata": {},
   "outputs": [
    {
     "name": "stdout",
     "output_type": "stream",
     "text": [
      "k=1\n",
      "done with k=1 in 0.005s.\n",
      "k=2\n",
      "done with k=2 in 24.772s.\n",
      "k=3\n",
      "done with k=3 in 24.778s.\n",
      "k=4\n",
      "done with k=4 in 97.782s.\n",
      "k=5\n"
     ]
    }
   ],
   "source": [
    "for k in range(1,21):\n",
    "    print(f'k={k}')\n",
    "    start = time.time()\n",
    "    braidsNoRepeats(8, k) #we only care about the 4-bridge = 8-strand case right now.\n",
    "    print(f'done with k={k} in {time.time()-start:.3f}s.')"
=======
   "execution_count": 3,
   "id": "b9e6e326",
   "metadata": {},
   "outputs": [],
   "source": [
    "for i in range(4):\n",
    "    braidsNoRepeats(2*(i+1), 8)"
>>>>>>> bf23264ad3d208f728d6f0d12cc3a616c8c848cf
   ]
  },
  {
   "cell_type": "code",
   "execution_count": null,
<<<<<<< HEAD
   "id": "c30f5e87-6496-4930-92d4-268dfc25e797",
   "metadata": {},
   "outputs": [],
   "source": [
    "braidsNoRepeats(8,2)"
   ]
  },
  {
   "cell_type": "code",
   "execution_count": null,
   "id": "80052d4a-a2cb-4aa1-8c47-0887e73702e0",
   "metadata": {},
   "outputs": [],
=======
   "id": "98b33d73",
   "metadata": {},
   "outputs": [],
>>>>>>> bf23264ad3d208f728d6f0d12cc3a616c8c848cf
   "source": []
  }
 ],
 "metadata": {
  "kernelspec": {
   "display_name": "Python 3 (ipykernel)",
   "language": "python",
   "name": "python3"
  },
  "language_info": {
   "codemirror_mode": {
    "name": "ipython",
    "version": 3
   },
   "file_extension": ".py",
   "mimetype": "text/x-python",
   "name": "python",
   "nbconvert_exporter": "python",
   "pygments_lexer": "ipython3",
   "version": "3.9.6"
  }
 },
 "nbformat": 4,
 "nbformat_minor": 5
}

{
 "cells": [
  {
   "cell_type": "code",
   "execution_count": 9,
   "id": "885fba3a",
   "metadata": {},
   "outputs": [],
   "source": [
    "load('../scripts/Triplane.sage')"
   ]
  },
  {
   "cell_type": "code",
   "execution_count": 10,
   "id": "63c8caf1",
   "metadata": {},
   "outputs": [
    {
     "name": "stdout",
     "output_type": "stream",
     "text": [
      "1\n",
      "True\n",
      "2\n"
     ]
    }
   ],
   "source": [
    "# unknotted sphere\n",
    "braids = BraidGroup(2)\n",
    "B1 = braids.one()\n",
    "B2 = braids.one()\n",
    "B3 = braids.one()\n",
    "C1 = [(1,2)]\n",
    "C2 = [(1,2)]\n",
    "C3 = [(1,2)]\n",
    "U = Triplane(B1, C1, B2, C2, B3, C3)\n",
    "\n",
    "print(U.b)\n",
    "print(U.o())\n",
    "print(U.chi())\n",
    "U.show()"
   ]
  },
  {
   "cell_type": "code",
   "execution_count": 12,
   "id": "d7b41f53",
   "metadata": {},
   "outputs": [
    {
     "name": "stdout",
     "output_type": "stream",
     "text": [
      "2\n",
      "False\n",
      "1\n"
     ]
    }
   ],
   "source": [
    "# positive unknotted projective plane\n",
    "braids = BraidGroup(4)\n",
    "B1 = braids.one()\n",
    "B2 = braids.one()\n",
    "B3 = braids([2])\n",
    "C1 = [(1,2), (3,4)]\n",
    "C2 = [(1,4), (2,3)]\n",
    "C3 = [(1,2), (3,4)]\n",
    "Pp = Triplane(B1, C1, B2, C2, B3, C3)\n",
    "\n",
    "# print(link_components(B3, C3, B1, C1))\n",
    "print(Pp.b)\n",
    "print(Pp.o())\n",
    "print(Pp.chi())"
   ]
  },
  {
   "cell_type": "code",
   "execution_count": 13,
   "id": "6a81836a",
   "metadata": {},
   "outputs": [
    {
     "name": "stdout",
     "output_type": "stream",
     "text": [
      "2\n",
      "False\n",
      "1\n"
     ]
    }
   ],
   "source": [
    "# negative unknotted projective plane\n",
    "braids = BraidGroup(4)\n",
    "B1 = braids.one()\n",
    "B2 = braids.one()\n",
    "B3 = braids([-2])\n",
    "C1 = [(1,2), (3,4)]\n",
    "C2 = [(1,4), (2,3)]\n",
    "C3 = [(1,2), (3,4)]\n",
    "Pn = Triplane(B1, C1, B2, C2, B3, C3)\n",
    "\n",
    "print(Pn.b)\n",
    "print(Pn.o())\n",
    "print(Pn.chi())"
   ]
  },
  {
   "cell_type": "code",
   "execution_count": 15,
   "id": "29ad7d0b",
   "metadata": {},
   "outputs": [
    {
     "name": "stdout",
     "output_type": "stream",
     "text": [
      "3\n",
      "True\n",
      "([1, -1, 1, -1, 1, -1], [1, -1, 1, -1, 1, -1], [1, -1, 1, -1, 1, -1])\n",
      "0\n"
     ]
    }
   ],
   "source": [
    "# unknotted torus\n",
    "braids = BraidGroup(6)\n",
    "B1 = braids.one()\n",
    "B2 = braids.one()\n",
    "B3 = braids.one()\n",
    "C1 = [(1,2), (3,6), (4,5)]\n",
    "C2 = [(1,4), (2,3), (5,6)]\n",
    "C3 = [(1,6), (2,5), (3,4)]\n",
    "T = Triplane(B1, C1, B2, C2, B3, C3)\n",
    "\n",
    "print(T.b)\n",
    "print(T.o())\n",
    "print(T.chi())"
   ]
  },
  {
   "cell_type": "code",
   "execution_count": null,
   "id": "d26102e3",
   "metadata": {},
   "outputs": [],
   "source": []
  }
 ],
 "metadata": {
  "kernelspec": {
   "display_name": "SageMath 9.3",
   "language": "sage",
   "name": "sagemath"
  },
  "language_info": {
   "codemirror_mode": {
    "name": "ipython",
    "version": 3
   },
   "file_extension": ".py",
   "mimetype": "text/x-python",
   "name": "python",
   "nbconvert_exporter": "python",
   "pygments_lexer": "ipython3",
   "version": "3.9.5"
  }
 },
 "nbformat": 4,
 "nbformat_minor": 5
}
